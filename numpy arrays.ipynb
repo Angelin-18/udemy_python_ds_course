{
 "cells": [
  {
   "cell_type": "markdown",
   "id": "67d0c42b-52a1-44e7-b094-3426c5473e29",
   "metadata": {},
   "source": [
    "we can create arrays in numpy by either casting a list or by arange"
   ]
  },
  {
   "cell_type": "markdown",
   "id": "4ba94c64-4c74-45f6-ae6f-54450e9667db",
   "metadata": {},
   "source": [
    "    creating a list"
   ]
  },
  {
   "cell_type": "code",
   "execution_count": 1,
   "id": "ee5fcf97-6f73-4b96-b7fc-4e301a079e11",
   "metadata": {},
   "outputs": [],
   "source": [
    "my_list = [1,2,3]"
   ]
  },
  {
   "cell_type": "code",
   "execution_count": 2,
   "id": "1e2f790d-35a6-4b98-91df-fdd14cafd41c",
   "metadata": {},
   "outputs": [
    {
     "data": {
      "text/plain": [
       "[1, 2, 3]"
      ]
     },
     "execution_count": 2,
     "metadata": {},
     "output_type": "execute_result"
    }
   ],
   "source": [
    "my_list\n"
   ]
  },
  {
   "cell_type": "code",
   "execution_count": null,
   "id": "24d6ab5e-b4e1-4ef0-9adf-b82e5b001496",
   "metadata": {},
   "outputs": [],
   "source": [
    "#casting a list into array"
   ]
  },
  {
   "cell_type": "code",
   "execution_count": 3,
   "id": "d094a8bf-4946-4c31-9493-9cac5cb5f99a",
   "metadata": {},
   "outputs": [],
   "source": [
    "import numpy as np"
   ]
  },
  {
   "cell_type": "code",
   "execution_count": 7,
   "id": "9839af4c-6998-4148-94bc-cd272ef97977",
   "metadata": {},
   "outputs": [
    {
     "data": {
      "text/plain": [
       "array([1, 2, 3])"
      ]
     },
     "execution_count": 7,
     "metadata": {},
     "output_type": "execute_result"
    }
   ],
   "source": [
    "np.array(my_list)"
   ]
  },
  {
   "cell_type": "markdown",
   "id": "efc2ac7f-1f77-400d-bc2c-b6b7a9d001c4",
   "metadata": {},
   "source": [
    "assigning"
   ]
  },
  {
   "cell_type": "code",
   "execution_count": 8,
   "id": "8086d9d0-64d5-4e23-a815-76bbdcb0d870",
   "metadata": {},
   "outputs": [],
   "source": [
    "arr=np.array(my_list)"
   ]
  },
  {
   "cell_type": "code",
   "execution_count": 9,
   "id": "4abef7f6-f244-4abc-86d5-f5112368c2ab",
   "metadata": {},
   "outputs": [
    {
     "data": {
      "text/plain": [
       "array([1, 2, 3])"
      ]
     },
     "execution_count": 9,
     "metadata": {},
     "output_type": "execute_result"
    }
   ],
   "source": [
    "arr"
   ]
  },
  {
   "cell_type": "markdown",
   "id": "a25a34f0-24bc-479c-ad12-183e5c409018",
   "metadata": {},
   "source": [
    "     casting list of lists in array"
   ]
  },
  {
   "cell_type": "code",
   "execution_count": 12,
   "id": "39251a15-176d-4bdb-b23b-b6d19d4368ed",
   "metadata": {},
   "outputs": [],
   "source": [
    "list_list=[[1,2,3],[2,3,4],[5,6,7]]"
   ]
  },
  {
   "cell_type": "code",
   "execution_count": 13,
   "id": "44e27cea-3289-40ce-b16c-7a1976d9c3e9",
   "metadata": {},
   "outputs": [
    {
     "data": {
      "text/plain": [
       "array([[1, 2, 3],\n",
       "       [2, 3, 4],\n",
       "       [5, 6, 7]])"
      ]
     },
     "execution_count": 13,
     "metadata": {},
     "output_type": "execute_result"
    }
   ],
   "source": [
    "np.array(list_list)"
   ]
  },
  {
   "cell_type": "code",
   "execution_count": null,
   "id": "d7be36e1-8acc-4d75-90c7-68a75df00e74",
   "metadata": {},
   "outputs": [],
   "source": [
    "#arange:easier way to create arrays\n",
    "         (start,stop)"
   ]
  },
  {
   "cell_type": "code",
   "execution_count": 17,
   "id": "e28c4a90-ca73-483a-8269-fd06beb80e8f",
   "metadata": {},
   "outputs": [
    {
     "data": {
      "text/plain": [
       "array([0, 1, 2, 3, 4, 5, 6])"
      ]
     },
     "execution_count": 17,
     "metadata": {},
     "output_type": "execute_result"
    }
   ],
   "source": [
    "np.arange(0,7) "
   ]
  },
  {
   "cell_type": "markdown",
   "id": "73fab520-5de6-4bd9-ac33-4215c88309c9",
   "metadata": {},
   "source": [
    "      another way(start,stop,step)"
   ]
  },
  {
   "cell_type": "code",
   "execution_count": 18,
   "id": "c7e703c5-f856-4620-8bb9-92da23ea7080",
   "metadata": {},
   "outputs": [
    {
     "data": {
      "text/plain": [
       "array([0, 2, 4, 6])"
      ]
     },
     "execution_count": 18,
     "metadata": {},
     "output_type": "execute_result"
    }
   ],
   "source": [
    "np.arange(0,7,2)"
   ]
  },
  {
   "cell_type": "markdown",
   "id": "184da415-7afa-4f7e-b294-415cdb6b2418",
   "metadata": {},
   "source": [
    "     if you want array of zeros or ones"
   ]
  },
  {
   "cell_type": "code",
   "execution_count": 19,
   "id": "742e699d-8a1f-45a8-ac68-5ab266c65ab3",
   "metadata": {},
   "outputs": [
    {
     "data": {
      "text/plain": [
       "array([0., 0., 0., 0.])"
      ]
     },
     "execution_count": 19,
     "metadata": {},
     "output_type": "execute_result"
    }
   ],
   "source": [
    "np.zeros(4)"
   ]
  },
  {
   "cell_type": "code",
   "execution_count": 22,
   "id": "c7919f1b-91af-4373-a75f-a5d325dd17d0",
   "metadata": {},
   "outputs": [
    {
     "data": {
      "text/plain": [
       "array([[0., 0., 0.],\n",
       "       [0., 0., 0.],\n",
       "       [0., 0., 0.],\n",
       "       [0., 0., 0.]])"
      ]
     },
     "execution_count": 22,
     "metadata": {},
     "output_type": "execute_result"
    }
   ],
   "source": [
    "np.zeros((4,3))"
   ]
  },
  {
   "cell_type": "code",
   "execution_count": 24,
   "id": "661d7422-6ca7-4946-af1b-f5add1575f9f",
   "metadata": {},
   "outputs": [
    {
     "data": {
      "text/plain": [
       "array([[1., 1.],\n",
       "       [1., 1.]])"
      ]
     },
     "execution_count": 24,
     "metadata": {},
     "output_type": "execute_result"
    }
   ],
   "source": [
    "np.ones((2,2))"
   ]
  },
  {
   "cell_type": "markdown",
   "id": "18f041ca-1a43-485d-bfbe-cb27daf18a7d",
   "metadata": {},
   "source": [
    "    [[ ]]means 2d   [[[]]]3d"
   ]
  },
  {
   "cell_type": "code",
   "execution_count": null,
   "id": "909dc30b-9002-4015-9c92-1151b25fc97b",
   "metadata": {},
   "outputs": [],
   "source": [
    "#linspace\n",
    "#returns evenly spaced numbers over a specified interval"
   ]
  },
  {
   "cell_type": "code",
   "execution_count": 2,
   "id": "9bb9304d-2c3b-4e2d-9804-3ede1310e017",
   "metadata": {},
   "outputs": [],
   "source": [
    "import numpy as np"
   ]
  },
  {
   "cell_type": "code",
   "execution_count": 6,
   "id": "15c8c14a-c321-4d8f-a584-dbee873d873d",
   "metadata": {},
   "outputs": [
    {
     "data": {
      "text/plain": [
       "array([ 0.        ,  3.33333333,  6.66666667, 10.        ])"
      ]
     },
     "execution_count": 6,
     "metadata": {},
     "output_type": "execute_result"
    }
   ],
   "source": [
    "np.linspace(0,10,4)"
   ]
  },
  {
   "cell_type": "code",
   "execution_count": 8,
   "id": "fab065cb-8ad0-4588-a388-66eab996f419",
   "metadata": {},
   "outputs": [
    {
     "data": {
      "text/plain": [
       "array([ 2., 10.])"
      ]
     },
     "execution_count": 8,
     "metadata": {},
     "output_type": "execute_result"
    }
   ],
   "source": [
    "np.linspace(2,10,2)"
   ]
  },
  {
   "cell_type": "code",
   "execution_count": 15,
   "id": "c3917237-06ce-4428-ac05-bada220ee6e6",
   "metadata": {},
   "outputs": [
    {
     "data": {
      "text/plain": [
       "array([ 0.  ,  1.25,  2.5 ,  3.75,  5.  ,  6.25,  7.5 ,  8.75, 10.  ])"
      ]
     },
     "execution_count": 15,
     "metadata": {},
     "output_type": "execute_result"
    }
   ],
   "source": [
    "np.linspace(1,10,9)"
   ]
  },
  {
   "cell_type": "code",
   "execution_count": null,
   "id": "5cc7e143-b17f-4006-8020-abe89acf9f9a",
   "metadata": {},
   "outputs": [],
   "source": [
    "#Identity matrix:a square matrix with 1 as its diagonal"
   ]
  },
  {
   "cell_type": "code",
   "execution_count": 3,
   "id": "64f03c81-15c3-4fb6-b089-41a702e44a3a",
   "metadata": {},
   "outputs": [
    {
     "data": {
      "text/plain": [
       "array([[1., 0., 0., 0., 0.],\n",
       "       [0., 1., 0., 0., 0.],\n",
       "       [0., 0., 1., 0., 0.],\n",
       "       [0., 0., 0., 1., 0.],\n",
       "       [0., 0., 0., 0., 1.]])"
      ]
     },
     "execution_count": 3,
     "metadata": {},
     "output_type": "execute_result"
    }
   ],
   "source": [
    "np.eye(5)"
   ]
  },
  {
   "cell_type": "code",
   "execution_count": null,
   "id": "97ec86e8-16e2-4e09-a2e9-231ee80de158",
   "metadata": {},
   "outputs": [],
   "source": [
    "#random:creates array of random numbers"
   ]
  },
  {
   "cell_type": "markdown",
   "id": "3b4b5332-36d2-48c6-8997-99fc1ebac712",
   "metadata": {},
   "source": [
    "    random.rand:method (btw 0 and 1:0 and 1 excluded)\n",
    "    rand uniformly distributes numbers (eqaul likely to occur)"
   ]
  },
  {
   "cell_type": "code",
   "execution_count": 4,
   "id": "3f11195f-5cc3-40ce-a22f-29f3b814a331",
   "metadata": {},
   "outputs": [
    {
     "data": {
      "text/plain": [
       "array([0.83833246, 0.70539473, 0.33960739, 0.43094317])"
      ]
     },
     "execution_count": 4,
     "metadata": {},
     "output_type": "execute_result"
    }
   ],
   "source": [
    "np.random.rand(4)"
   ]
  },
  {
   "cell_type": "code",
   "execution_count": 5,
   "id": "3438f0ef-71fb-4e92-87ea-3bd156d64ce0",
   "metadata": {},
   "outputs": [
    {
     "data": {
      "text/plain": [
       "array([0.13718803, 0.97829084, 0.53195216])"
      ]
     },
     "execution_count": 5,
     "metadata": {},
     "output_type": "execute_result"
    }
   ],
   "source": [
    "np.random.rand(3)"
   ]
  },
  {
   "cell_type": "code",
   "execution_count": 6,
   "id": "d37bf36c-f387-4be5-a76a-c6386f7d1c16",
   "metadata": {},
   "outputs": [
    {
     "data": {
      "text/plain": [
       "array([[0.60297679, 0.91395669, 0.3205926 , 0.58643519],\n",
       "       [0.37389031, 0.58774785, 0.57389324, 0.6670651 ],\n",
       "       [0.55427328, 0.05372933, 0.18126653, 0.66379161],\n",
       "       [0.00853413, 0.48610526, 0.12961618, 0.50371265]])"
      ]
     },
     "execution_count": 6,
     "metadata": {},
     "output_type": "execute_result"
    }
   ],
   "source": [
    "np.random.rand(4,4)"
   ]
  },
  {
   "cell_type": "markdown",
   "id": "f98588b2-ece0-4149-a684-9f1fb386bdbe",
   "metadata": {},
   "source": [
    "    np.random.randn():returns most of the values clustered closer to 0"
   ]
  },
  {
   "cell_type": "code",
   "execution_count": 7,
   "id": "3d912b7c-573a-4be1-bb6e-28b1c9f4881c",
   "metadata": {},
   "outputs": [
    {
     "data": {
      "text/plain": [
       "array([ 0.05100261, -0.31983784,  0.73207526, -1.04012923])"
      ]
     },
     "execution_count": 7,
     "metadata": {},
     "output_type": "execute_result"
    }
   ],
   "source": [
    "np.random.randn(4)"
   ]
  },
  {
   "cell_type": "code",
   "execution_count": 8,
   "id": "b0e7ce92-bd43-4360-8651-52663465873b",
   "metadata": {},
   "outputs": [
    {
     "data": {
      "text/plain": [
       "array([[-4.00420786e-02, -2.34345266e-01, -2.44524336e-02],\n",
       "       [-2.74887994e-01, -3.72387470e-01, -9.06521302e-01],\n",
       "       [ 1.17926513e-03,  5.09221052e-01, -1.18844548e+00],\n",
       "       [-2.00023802e+00, -5.65659063e-01, -2.67796281e-02]])"
      ]
     },
     "execution_count": 8,
     "metadata": {},
     "output_type": "execute_result"
    }
   ],
   "source": [
    "np.random.randn(4,3)"
   ]
  },
  {
   "cell_type": "markdown",
   "id": "5f29f51c-e87d-40b4-b91e-5bfe19a61b97",
   "metadata": {},
   "source": [
    "    np.random.randint(low:inclusive,high:exclusive,size)\n",
    "    randint:random integers"
   ]
  },
  {
   "cell_type": "code",
   "execution_count": 9,
   "id": "4b0c7735-3191-408a-9943-38187eb9fd19",
   "metadata": {},
   "outputs": [
    {
     "data": {
      "text/plain": [
       "array([1, 4, 1, 3])"
      ]
     },
     "execution_count": 9,
     "metadata": {},
     "output_type": "execute_result"
    }
   ],
   "source": [
    "np.random.randint(1,5,4)"
   ]
  },
  {
   "cell_type": "code",
   "execution_count": 13,
   "id": "fd425ebd-826b-4f68-80b1-2ebe54e9695c",
   "metadata": {},
   "outputs": [],
   "source": [
    "arr=np.arange(25)"
   ]
  },
  {
   "cell_type": "code",
   "execution_count": 14,
   "id": "09616474-b0be-4d58-861e-0fcda6e673db",
   "metadata": {},
   "outputs": [
    {
     "data": {
      "text/plain": [
       "array([ 0,  1,  2,  3,  4,  5,  6,  7,  8,  9, 10, 11, 12, 13, 14, 15, 16,\n",
       "       17, 18, 19, 20, 21, 22, 23, 24])"
      ]
     },
     "execution_count": 14,
     "metadata": {},
     "output_type": "execute_result"
    }
   ],
   "source": [
    "arr"
   ]
  },
  {
   "cell_type": "markdown",
   "id": "406ce77b-5924-47ad-9dc3-f4971c5d1b55",
   "metadata": {},
   "source": [
    "    reshape is just changing array format without changing its size"
   ]
  },
  {
   "cell_type": "code",
   "execution_count": 31,
   "id": "1b3c1c83-702f-46a5-8b99-41126a5ce360",
   "metadata": {},
   "outputs": [
    {
     "data": {
      "text/plain": [
       "array([[ 0,  1,  2,  3,  4],\n",
       "       [ 5,  6,  7,  8,  9],\n",
       "       [10, 11, 12, 13, 14],\n",
       "       [15, 16, 17, 18, 19],\n",
       "       [20, 21, 22, 23, 24]])"
      ]
     },
     "execution_count": 31,
     "metadata": {},
     "output_type": "execute_result"
    }
   ],
   "source": [
    "arr.reshape(5,5)"
   ]
  },
  {
   "cell_type": "code",
   "execution_count": 20,
   "id": "d93db0e4-421d-43a1-bb31-3643eb8f5f62",
   "metadata": {},
   "outputs": [],
   "source": [
    "ranarr=np.random.randint(2,20,14)"
   ]
  },
  {
   "cell_type": "code",
   "execution_count": 26,
   "id": "4d8f37b8-0c1c-4e9b-bb9f-c9b22ba7e2f9",
   "metadata": {},
   "outputs": [
    {
     "data": {
      "text/plain": [
       "array([ 2,  3, 14, 19, 17,  6, 10, 11, 18, 15,  5,  3, 14, 19])"
      ]
     },
     "execution_count": 26,
     "metadata": {},
     "output_type": "execute_result"
    }
   ],
   "source": [
    "ranarr"
   ]
  },
  {
   "cell_type": "markdown",
   "id": "675b2d19-99fe-46d1-ae16-1ddbdd9be40e",
   "metadata": {},
   "source": [
    "    returns max and min value"
   ]
  },
  {
   "cell_type": "code",
   "execution_count": 22,
   "id": "a91c5f29-aa80-43a9-95c3-6e422ee3c287",
   "metadata": {},
   "outputs": [
    {
     "data": {
      "text/plain": [
       "19"
      ]
     },
     "execution_count": 22,
     "metadata": {},
     "output_type": "execute_result"
    }
   ],
   "source": [
    "ranarr.max()"
   ]
  },
  {
   "cell_type": "code",
   "execution_count": 23,
   "id": "16ee8942-43fb-4fa3-8df5-36b92e10fba0",
   "metadata": {},
   "outputs": [
    {
     "data": {
      "text/plain": [
       "2"
      ]
     },
     "execution_count": 23,
     "metadata": {},
     "output_type": "execute_result"
    }
   ],
   "source": [
    "ranarr.min()"
   ]
  },
  {
   "cell_type": "markdown",
   "id": "e5661ed8-5700-4acc-849b-27c58620e249",
   "metadata": {},
   "source": [
    "    arg returns location or index values"
   ]
  },
  {
   "cell_type": "code",
   "execution_count": 24,
   "id": "1ec7a4ba-846e-4c4e-a623-35bdc1648bf8",
   "metadata": {},
   "outputs": [
    {
     "data": {
      "text/plain": [
       "3"
      ]
     },
     "execution_count": 24,
     "metadata": {},
     "output_type": "execute_result"
    }
   ],
   "source": [
    "ranarr.argmax()"
   ]
  },
  {
   "cell_type": "code",
   "execution_count": 28,
   "id": "2c21d84f-9f42-45bd-8d6e-9e3071489e62",
   "metadata": {},
   "outputs": [
    {
     "data": {
      "text/plain": [
       "0"
      ]
     },
     "execution_count": 28,
     "metadata": {},
     "output_type": "execute_result"
    }
   ],
   "source": [
    "ranarr.argmin()"
   ]
  },
  {
   "cell_type": "markdown",
   "id": "b1cff754-eea1-4ecd-a8c1-72b4243a737b",
   "metadata": {},
   "source": [
    "    shape is to know an arrays actual shape(in 1d or 2d)"
   ]
  },
  {
   "cell_type": "code",
   "execution_count": 29,
   "id": "6222c657-1fda-487e-8a37-6f1189499b86",
   "metadata": {},
   "outputs": [
    {
     "data": {
      "text/plain": [
       "(14,)"
      ]
     },
     "execution_count": 29,
     "metadata": {},
     "output_type": "execute_result"
    }
   ],
   "source": [
    "ranarr.shape"
   ]
  },
  {
   "cell_type": "code",
   "execution_count": 32,
   "id": "19ea7ea6-0fa5-4782-abd7-e9ac1a98563e",
   "metadata": {},
   "outputs": [
    {
     "data": {
      "text/plain": [
       "(25,)"
      ]
     },
     "execution_count": 32,
     "metadata": {},
     "output_type": "execute_result"
    }
   ],
   "source": [
    "arr.shape"
   ]
  },
  {
   "cell_type": "code",
   "execution_count": 33,
   "id": "be55d24c-42c6-4a5c-b557-8db8e4a1d5a6",
   "metadata": {},
   "outputs": [],
   "source": [
    "arr=arr.reshape(5,5)"
   ]
  },
  {
   "cell_type": "code",
   "execution_count": 34,
   "id": "293dbd34-4385-48d6-b4a3-e3f12fa3ebf2",
   "metadata": {},
   "outputs": [
    {
     "data": {
      "text/plain": [
       "(5, 5)"
      ]
     },
     "execution_count": 34,
     "metadata": {},
     "output_type": "execute_result"
    }
   ],
   "source": [
    "arr.shape"
   ]
  },
  {
   "cell_type": "code",
   "execution_count": null,
   "id": "bbf6a2ce-4c88-448c-935d-c44d9f16f870",
   "metadata": {},
   "outputs": [],
   "source": [
    "#dtpe is datatype in array\n",
    "here integers are of 32 bitsize"
   ]
  },
  {
   "cell_type": "code",
   "execution_count": 35,
   "id": "8e5e2218-2f41-4e54-b7cb-7b81a8b12a34",
   "metadata": {},
   "outputs": [
    {
     "data": {
      "text/plain": [
       "dtype('int32')"
      ]
     },
     "execution_count": 35,
     "metadata": {},
     "output_type": "execute_result"
    }
   ],
   "source": [
    "arr.dtype"
   ]
  },
  {
   "cell_type": "code",
   "execution_count": null,
   "id": "e80822df-2e0e-4ef6-a1e7-0d6202cb64d5",
   "metadata": {},
   "outputs": [],
   "source": [
    "#TIP(applied to all)eg:\n",
    "instead of typing np.random.randint...\n",
    "type;from numpy.random import randint"
   ]
  },
  {
   "cell_type": "code",
   "execution_count": 37,
   "id": "2df66215-118b-4fa1-b2ea-66f0009d6e4b",
   "metadata": {},
   "outputs": [],
   "source": [
    "from numpy.random import randint"
   ]
  },
  {
   "cell_type": "code",
   "execution_count": 38,
   "id": "16f574b4-22d8-4aa7-84da-7f8046b68cdc",
   "metadata": {},
   "outputs": [
    {
     "data": {
      "text/plain": [
       "1"
      ]
     },
     "execution_count": 38,
     "metadata": {},
     "output_type": "execute_result"
    }
   ],
   "source": [
    "randint(1,5)"
   ]
  },
  {
   "cell_type": "code",
   "execution_count": null,
   "id": "abc71a96-d0f9-44dc-9c25-3e0334585cce",
   "metadata": {},
   "outputs": [],
   "source": [
    "#NUMPY INDEXING (same as python list)"
   ]
  },
  {
   "cell_type": "code",
   "execution_count": null,
   "id": "88145051-8cdb-482d-9337-278e0bf9112b",
   "metadata": {},
   "outputs": [],
   "source": [
    "#indexing an array"
   ]
  },
  {
   "cell_type": "code",
   "execution_count": 4,
   "id": "4837dceb-50c1-4603-bc04-544b85a3bfe3",
   "metadata": {},
   "outputs": [],
   "source": [
    "import numpy as np"
   ]
  },
  {
   "cell_type": "markdown",
   "id": "770b282a-a139-45c3-b2e5-49d1cd2b76af",
   "metadata": {},
   "source": [
    "    arange(0=index,11=size)"
   ]
  },
  {
   "cell_type": "code",
   "execution_count": 32,
   "id": "3475f00f-af17-44d8-97d2-4fda4d0fbbae",
   "metadata": {},
   "outputs": [],
   "source": [
    "arr=np.arange(0,11)"
   ]
  },
  {
   "cell_type": "code",
   "execution_count": 33,
   "id": "a8582f71-0bcf-4655-8b1f-a3aa7c019aa3",
   "metadata": {},
   "outputs": [
    {
     "data": {
      "text/plain": [
       "array([ 0,  1,  2,  3,  4,  5,  6,  7,  8,  9, 10])"
      ]
     },
     "execution_count": 33,
     "metadata": {},
     "output_type": "execute_result"
    }
   ],
   "source": [
    "arr"
   ]
  },
  {
   "cell_type": "markdown",
   "id": "ebf6b9ab-dcc2-42f9-aaf0-5df98dd266e7",
   "metadata": {},
   "source": [
    "    we do indexing by brackets[] for a value"
   ]
  },
  {
   "cell_type": "code",
   "execution_count": 34,
   "id": "72aeedd1-540b-40c9-8ef2-415c4003e1f0",
   "metadata": {},
   "outputs": [
    {
     "data": {
      "text/plain": [
       "6"
      ]
     },
     "execution_count": 34,
     "metadata": {},
     "output_type": "execute_result"
    }
   ],
   "source": [
    "arr[6]"
   ]
  },
  {
   "cell_type": "markdown",
   "id": "74d2b4dd-cb1e-43ea-b784-30be58639404",
   "metadata": {},
   "source": [
    "    or slice notations[2:5] for returning range of values"
   ]
  },
  {
   "cell_type": "code",
   "execution_count": 39,
   "id": "aef03852-2de9-475a-ae2e-9b7bae24a844",
   "metadata": {},
   "outputs": [
    {
     "data": {
      "text/plain": [
       "array([4])"
      ]
     },
     "execution_count": 39,
     "metadata": {},
     "output_type": "execute_result"
    }
   ],
   "source": [
    "arr[4:5]"
   ]
  },
  {
   "cell_type": "code",
   "execution_count": 15,
   "id": "90e8060c-e8e5-4453-a2e7-8528b411d81b",
   "metadata": {},
   "outputs": [
    {
     "data": {
      "text/plain": [
       "array([ 1,  2,  3,  4,  5,  6,  7,  8,  9, 10])"
      ]
     },
     "execution_count": 15,
     "metadata": {},
     "output_type": "execute_result"
    }
   ],
   "source": [
    "arr[1:]"
   ]
  },
  {
   "cell_type": "code",
   "execution_count": 16,
   "id": "855f44df-152d-45a3-9dba-934af4d4cbef",
   "metadata": {},
   "outputs": [
    {
     "data": {
      "text/plain": [
       "array([0, 1, 2, 3, 4, 5, 6])"
      ]
     },
     "execution_count": 16,
     "metadata": {},
     "output_type": "execute_result"
    }
   ],
   "source": [
    "arr[:7]"
   ]
  },
  {
   "cell_type": "markdown",
   "id": "a35729df-4d92-4346-baa0-92888586471c",
   "metadata": {},
   "source": [
    "    broadcast:difference of numpy indexing from python list\n",
    "    broadcasting means copying an input to wherever required"
   ]
  },
  {
   "cell_type": "code",
   "execution_count": 37,
   "id": "b6989873-bccf-474c-836e-9eb182962d5d",
   "metadata": {},
   "outputs": [],
   "source": [
    "arr[6]=100"
   ]
  },
  {
   "cell_type": "code",
   "execution_count": 38,
   "id": "91b2a9ca-1cd3-4b29-bde7-aa1625d6e403",
   "metadata": {},
   "outputs": [
    {
     "data": {
      "text/plain": [
       "array([  0,   1,   2,   3,   4,   5, 100,   7,   8,   9,  10])"
      ]
     },
     "execution_count": 38,
     "metadata": {},
     "output_type": "execute_result"
    }
   ],
   "source": [
    "arr"
   ]
  },
  {
   "cell_type": "markdown",
   "id": "ba28acb3-293c-4930-b39c-8bea66e79e2b",
   "metadata": {},
   "source": [
    "    if array is reset,we get old array"
   ]
  },
  {
   "cell_type": "code",
   "execution_count": 40,
   "id": "1a9660d3-0140-425e-adee-56a6a310b323",
   "metadata": {},
   "outputs": [],
   "source": [
    "arr=np.arange(0,11)"
   ]
  },
  {
   "cell_type": "code",
   "execution_count": 41,
   "id": "8b0f554f-f92d-4bdd-b0fe-52ac2e2c8f80",
   "metadata": {},
   "outputs": [
    {
     "data": {
      "text/plain": [
       "array([ 0,  1,  2,  3,  4,  5,  6,  7,  8,  9, 10])"
      ]
     },
     "execution_count": 41,
     "metadata": {},
     "output_type": "execute_result"
    }
   ],
   "source": [
    "arr"
   ]
  },
  {
   "cell_type": "code",
   "execution_count": 44,
   "id": "8fb8520d-5bdd-4eae-a9f4-f4ee1f06b1b5",
   "metadata": {},
   "outputs": [],
   "source": [
    "slice_of_arr=arr[0:4]"
   ]
  },
  {
   "cell_type": "code",
   "execution_count": 45,
   "id": "c36d9bca-4b2d-416e-ab0b-c5a63dab879c",
   "metadata": {},
   "outputs": [
    {
     "data": {
      "text/plain": [
       "array([0, 1, 2, 3])"
      ]
     },
     "execution_count": 45,
     "metadata": {},
     "output_type": "execute_result"
    }
   ],
   "source": [
    "slice_of_arr"
   ]
  },
  {
   "cell_type": "markdown",
   "id": "1f27107f-87ff-4145-a4ee-0197aaeaa9a6",
   "metadata": {},
   "source": [
    "    broadcasting the slice to another number"
   ]
  },
  {
   "cell_type": "code",
   "execution_count": 46,
   "id": "aa94d173-7c40-48a6-adbb-6574418a794b",
   "metadata": {},
   "outputs": [],
   "source": [
    "slice_of_arr[0:4]=55"
   ]
  },
  {
   "cell_type": "code",
   "execution_count": 47,
   "id": "b396d9e0-e530-42e4-a802-e0df4577d55b",
   "metadata": {},
   "outputs": [
    {
     "data": {
      "text/plain": [
       "array([55, 55, 55, 55])"
      ]
     },
     "execution_count": 47,
     "metadata": {},
     "output_type": "execute_result"
    }
   ],
   "source": [
    "slice_of_arr"
   ]
  },
  {
   "cell_type": "markdown",
   "id": "3be59641-9cfc-415e-a237-c812fa87b398",
   "metadata": {},
   "source": [
    "    but broadcasting changed the original array\n",
    "    (np doesnt store copies of arrays to avoid memory issues)"
   ]
  },
  {
   "cell_type": "code",
   "execution_count": 48,
   "id": "915fb823-4d8b-4a88-92ea-9117fcaab88a",
   "metadata": {},
   "outputs": [
    {
     "data": {
      "text/plain": [
       "array([55, 55, 55, 55,  4,  5,  6,  7,  8,  9, 10])"
      ]
     },
     "execution_count": 48,
     "metadata": {},
     "output_type": "execute_result"
    }
   ],
   "source": [
    "arr"
   ]
  },
  {
   "cell_type": "markdown",
   "id": "5ddc21c1-6f74-473e-bb1c-c21646b4287f",
   "metadata": {},
   "source": [
    "    to retain the original array values..we make copy[arr.copy()]"
   ]
  },
  {
   "cell_type": "code",
   "execution_count": 49,
   "id": "7ccaf6ef-8ce7-44ff-983c-f26ff9d87308",
   "metadata": {},
   "outputs": [],
   "source": [
    "arr_copy=arr.copy()"
   ]
  },
  {
   "cell_type": "code",
   "execution_count": 50,
   "id": "a525799b-5f36-4263-bc6c-6225ec177022",
   "metadata": {},
   "outputs": [
    {
     "data": {
      "text/plain": [
       "array([55, 55, 55, 55,  4,  5,  6,  7,  8,  9, 10])"
      ]
     },
     "execution_count": 50,
     "metadata": {},
     "output_type": "execute_result"
    }
   ],
   "source": [
    "arr_copy"
   ]
  },
  {
   "cell_type": "code",
   "execution_count": 51,
   "id": "4df29ac3-a29a-4b75-83b3-19c9d2dcddf8",
   "metadata": {},
   "outputs": [],
   "source": [
    "arr_copy[4:6]=44"
   ]
  },
  {
   "cell_type": "code",
   "execution_count": 52,
   "id": "61d11ebe-bd01-4755-8a36-76b312f3de24",
   "metadata": {},
   "outputs": [
    {
     "data": {
      "text/plain": [
       "array([55, 55, 55, 55, 44, 44,  6,  7,  8,  9, 10])"
      ]
     },
     "execution_count": 52,
     "metadata": {},
     "output_type": "execute_result"
    }
   ],
   "source": [
    "arr_copy"
   ]
  },
  {
   "cell_type": "code",
   "execution_count": 53,
   "id": "da124fde-1349-44bb-9c84-14afea5cb428",
   "metadata": {},
   "outputs": [
    {
     "data": {
      "text/plain": [
       "array([55, 55, 55, 55,  4,  5,  6,  7,  8,  9, 10])"
      ]
     },
     "execution_count": 53,
     "metadata": {},
     "output_type": "execute_result"
    }
   ],
   "source": [
    "arr"
   ]
  },
  {
   "cell_type": "code",
   "execution_count": null,
   "id": "ff0a1a96-9ae5-405e-8da1-be9836b2733d",
   "metadata": {},
   "outputs": [],
   "source": [
    "#indexing a 2d array(matrix)\n",
    "indexing start with 0"
   ]
  },
  {
   "cell_type": "code",
   "execution_count": 117,
   "id": "41faae55-292d-44f8-a409-7a1daef39c59",
   "metadata": {},
   "outputs": [],
   "source": [
    "arr_2d=np.array([[67,45,34],[23,22,21],[89,87,85]])"
   ]
  },
  {
   "cell_type": "code",
   "execution_count": 118,
   "id": "208a83de-2d71-4243-950a-903a73c7f714",
   "metadata": {},
   "outputs": [
    {
     "data": {
      "text/plain": [
       "array([[67, 45, 34],\n",
       "       [23, 22, 21],\n",
       "       [89, 87, 85]])"
      ]
     },
     "execution_count": 118,
     "metadata": {},
     "output_type": "execute_result"
    }
   ],
   "source": [
    "arr_2d"
   ]
  },
  {
   "cell_type": "markdown",
   "id": "77ad3c0a-cfc5-41c9-aa2c-e1c64944b4cf",
   "metadata": {},
   "source": [
    "    2 general format for grabbing element from 2d array:[row][col]/[row,col]\n",
    "    "
   ]
  },
  {
   "cell_type": "code",
   "execution_count": 119,
   "id": "9bad4c53-415f-4743-83d1-ebc0dec056c3",
   "metadata": {},
   "outputs": [
    {
     "data": {
      "text/plain": [
       "22"
      ]
     },
     "execution_count": 119,
     "metadata": {},
     "output_type": "execute_result"
    }
   ],
   "source": [
    "arr_2d[1][1]"
   ]
  },
  {
   "cell_type": "code",
   "execution_count": 120,
   "id": "7fe215e0-6723-48a0-b51d-8edabf4251cd",
   "metadata": {},
   "outputs": [
    {
     "data": {
      "text/plain": [
       "22"
      ]
     },
     "execution_count": 120,
     "metadata": {},
     "output_type": "execute_result"
    }
   ],
   "source": [
    "arr_2d[1,1]"
   ]
  },
  {
   "cell_type": "code",
   "execution_count": 121,
   "id": "4f7db212-d5a8-4a1e-a034-267bbb1b4d43",
   "metadata": {},
   "outputs": [
    {
     "data": {
      "text/plain": [
       "array([23, 22, 21])"
      ]
     },
     "execution_count": 121,
     "metadata": {},
     "output_type": "execute_result"
    }
   ],
   "source": [
    "arr_2d[1]"
   ]
  },
  {
   "cell_type": "markdown",
   "id": "551bb2fc-567c-4d2d-8b15-22b07e2390fc",
   "metadata": {},
   "source": [
    "    2d array slicing:to grab sections of array(notsoimp)"
   ]
  },
  {
   "cell_type": "code",
   "execution_count": 122,
   "id": "e56d9cfa-2925-4973-bd30-1931ee5b5729",
   "metadata": {},
   "outputs": [
    {
     "data": {
      "text/plain": [
       "array([[23, 22, 21],\n",
       "       [89, 87, 85]])"
      ]
     },
     "execution_count": 122,
     "metadata": {},
     "output_type": "execute_result"
    }
   ],
   "source": [
    "arr_2d[1:]"
   ]
  },
  {
   "cell_type": "code",
   "execution_count": 131,
   "id": "01a19de2-0cda-4a01-a437-bd74a69e518d",
   "metadata": {},
   "outputs": [
    {
     "data": {
      "text/plain": [
       "array([[22, 21],\n",
       "       [87, 85]])"
      ]
     },
     "execution_count": 131,
     "metadata": {},
     "output_type": "execute_result"
    }
   ],
   "source": [
    "arr_2d[1:,1:]"
   ]
  },
  {
   "cell_type": "code",
   "execution_count": 136,
   "id": "dde33b22-39be-4d5e-bfb9-08dbe8f9e215",
   "metadata": {},
   "outputs": [
    {
     "data": {
      "text/plain": [
       "array([[67, 45],\n",
       "       [23, 22]])"
      ]
     },
     "execution_count": 136,
     "metadata": {},
     "output_type": "execute_result"
    }
   ],
   "source": [
    "arr_2d[:2,:2]"
   ]
  },
  {
   "cell_type": "code",
   "execution_count": null,
   "id": "84451e26-89b7-4a8c-8c38-90dfbde79355",
   "metadata": {},
   "outputs": [],
   "source": [
    "#conditional selection(imp)\n",
    "it returns boolean array when comparision op is given to array\n",
    "we can take the true values"
   ]
  },
  {
   "cell_type": "code",
   "execution_count": 137,
   "id": "4353f1fe-6cf0-49bd-a83a-0e4c1928c321",
   "metadata": {},
   "outputs": [],
   "source": [
    "arr=np.arange(0,10)"
   ]
  },
  {
   "cell_type": "code",
   "execution_count": 138,
   "id": "6ec9b443-bb71-4c6d-82d1-3a1ab0177451",
   "metadata": {},
   "outputs": [
    {
     "data": {
      "text/plain": [
       "array([0, 1, 2, 3, 4, 5, 6, 7, 8, 9])"
      ]
     },
     "execution_count": 138,
     "metadata": {},
     "output_type": "execute_result"
    }
   ],
   "source": [
    "arr"
   ]
  },
  {
   "cell_type": "code",
   "execution_count": 139,
   "id": "523df4bf-81a7-4fbb-af68-b2030c6c7daf",
   "metadata": {},
   "outputs": [],
   "source": [
    "bool_arr=arr>4"
   ]
  },
  {
   "cell_type": "code",
   "execution_count": 140,
   "id": "4b066893-3128-464e-bd75-67e4e66fe321",
   "metadata": {},
   "outputs": [
    {
     "data": {
      "text/plain": [
       "array([False, False, False, False, False,  True,  True,  True,  True,\n",
       "        True])"
      ]
     },
     "execution_count": 140,
     "metadata": {},
     "output_type": "execute_result"
    }
   ],
   "source": [
    "bool_arr"
   ]
  },
  {
   "cell_type": "code",
   "execution_count": 141,
   "id": "39e3d097-f946-4a29-b532-8686f81f1c35",
   "metadata": {},
   "outputs": [
    {
     "data": {
      "text/plain": [
       "array([5, 6, 7, 8, 9])"
      ]
     },
     "execution_count": 141,
     "metadata": {},
     "output_type": "execute_result"
    }
   ],
   "source": [
    "arr[bool_arr]"
   ]
  },
  {
   "cell_type": "markdown",
   "id": "e3d2384e-4a0d-49a8-b6d8-a464dff896c5",
   "metadata": {},
   "source": [
    "    to write it simply"
   ]
  },
  {
   "cell_type": "code",
   "execution_count": 142,
   "id": "b3f71abd-cb41-4312-8e37-901de7ef58b2",
   "metadata": {},
   "outputs": [
    {
     "data": {
      "text/plain": [
       "array([5, 6, 7, 8, 9])"
      ]
     },
     "execution_count": 142,
     "metadata": {},
     "output_type": "execute_result"
    }
   ],
   "source": [
    "arr[arr>4]"
   ]
  },
  {
   "cell_type": "code",
   "execution_count": null,
   "id": "9e00c721-49a3-4d96-98e7-64ca382636f0",
   "metadata": {},
   "outputs": [],
   "source": [
    "#practice"
   ]
  },
  {
   "cell_type": "code",
   "execution_count": 143,
   "id": "acd28ac2-b325-4808-b327-1d2f7d7c39a9",
   "metadata": {},
   "outputs": [],
   "source": [
    "arr=np.arange(50).reshape(5,10)"
   ]
  },
  {
   "cell_type": "code",
   "execution_count": 144,
   "id": "d8d7a2b2-8464-40fc-a2c7-914c82df7a05",
   "metadata": {},
   "outputs": [
    {
     "data": {
      "text/plain": [
       "array([[ 0,  1,  2,  3,  4,  5,  6,  7,  8,  9],\n",
       "       [10, 11, 12, 13, 14, 15, 16, 17, 18, 19],\n",
       "       [20, 21, 22, 23, 24, 25, 26, 27, 28, 29],\n",
       "       [30, 31, 32, 33, 34, 35, 36, 37, 38, 39],\n",
       "       [40, 41, 42, 43, 44, 45, 46, 47, 48, 49]])"
      ]
     },
     "execution_count": 144,
     "metadata": {},
     "output_type": "execute_result"
    }
   ],
   "source": [
    "arr"
   ]
  },
  {
   "cell_type": "code",
   "execution_count": 145,
   "id": "e230da39-1e1b-4073-a126-9a68a5c7c27b",
   "metadata": {},
   "outputs": [
    {
     "data": {
      "text/plain": [
       "array([[11, 12],\n",
       "       [21, 22]])"
      ]
     },
     "execution_count": 145,
     "metadata": {},
     "output_type": "execute_result"
    }
   ],
   "source": [
    "arr[1:3,1:3]"
   ]
  },
  {
   "cell_type": "code",
   "execution_count": null,
   "id": "a018d7e4-c505-4ef6-be2c-da16cf60b4b1",
   "metadata": {},
   "outputs": [],
   "source": []
  }
 ],
 "metadata": {
  "kernelspec": {
   "display_name": "Python 3 (ipykernel)",
   "language": "python",
   "name": "python3"
  },
  "language_info": {
   "codemirror_mode": {
    "name": "ipython",
    "version": 3
   },
   "file_extension": ".py",
   "mimetype": "text/x-python",
   "name": "python",
   "nbconvert_exporter": "python",
   "pygments_lexer": "ipython3",
   "version": "3.12.7"
  }
 },
 "nbformat": 4,
 "nbformat_minor": 5
}

{
 "cells": [
  {
   "cell_type": "code",
   "execution_count": null,
   "id": "1ad41c6b-4035-4ec6-9de2-9b4364480e09",
   "metadata": {},
   "outputs": [],
   "source": [
    "#MAP(to map a func and seq)\n",
    "built in function\n",
    "applies func in all elements of a list seq"
   ]
  },
  {
   "cell_type": "code",
   "execution_count": 12,
   "id": "d5812a4b-2c84-4459-b64b-1105f7af1cf0",
   "metadata": {},
   "outputs": [],
   "source": [
    "def hi(num):\n",
    "    print(num+2)"
   ]
  },
  {
   "cell_type": "code",
   "execution_count": 14,
   "id": "e63bee69-38a3-4ec3-be59-ffd5e16cab54",
   "metadata": {},
   "outputs": [
    {
     "name": "stdout",
     "output_type": "stream",
     "text": [
      "6\n"
     ]
    }
   ],
   "source": [
    "hi(4)"
   ]
  },
  {
   "cell_type": "code",
   "execution_count": 15,
   "id": "ee035312-23b0-420f-bf94-1023baba4244",
   "metadata": {},
   "outputs": [],
   "source": [
    "seq=[1,2,3]"
   ]
  },
  {
   "cell_type": "code",
   "execution_count": 26,
   "id": "efafcb16-9fc1-4796-9ec1-c8c694b1d9b4",
   "metadata": {},
   "outputs": [
    {
     "data": {
      "text/plain": [
       "<map at 0x2f5a2f29840>"
      ]
     },
     "execution_count": 26,
     "metadata": {},
     "output_type": "execute_result"
    }
   ],
   "source": [
    "map(hi,seq)"
   ]
  },
  {
   "cell_type": "code",
   "execution_count": 17,
   "id": "f8027961-43ff-4ca3-84f0-d6940509cd86",
   "metadata": {},
   "outputs": [
    {
     "name": "stdout",
     "output_type": "stream",
     "text": [
      "3\n",
      "4\n",
      "5\n"
     ]
    },
    {
     "data": {
      "text/plain": [
       "[None, None, None]"
      ]
     },
     "execution_count": 17,
     "metadata": {},
     "output_type": "execute_result"
    }
   ],
   "source": [
    "list(map(hi,seq))"
   ]
  },
  {
   "cell_type": "markdown",
   "id": "cef1e543-7964-497f-8291-2000f11ae735",
   "metadata": {},
   "source": [
    "#lamda(easy way of mapping,etc;without writing entire func code)\n",
    "way to create anonymous func\n",
    "it is a func"
   ]
  },
  {
   "cell_type": "markdown",
   "id": "304ebf04-2cff-4b53-aa51-2d4fd6c3978e",
   "metadata": {},
   "source": [
    "def hi(num):\n",
    "    print(num+2)......changes to"
   ]
  },
  {
   "cell_type": "markdown",
   "id": "8793598c-0ed4-4b90-b55f-78d365ad28b0",
   "metadata": {},
   "source": [
    "lambda num:num+2\n",
    "num=arg\n",
    "num+2=exp\n"
   ]
  },
  {
   "cell_type": "markdown",
   "id": "21b55ebc-2fa0-4fdc-bf94-a1da3ebd5ec5",
   "metadata": {},
   "source": [
    "list(map(lambda what u wanna pass in:what u wanna return out,---)"
   ]
  },
  {
   "cell_type": "code",
   "execution_count": 24,
   "id": "7adfe043-79d1-47e0-9193-ec855bedc34b",
   "metadata": {},
   "outputs": [
    {
     "data": {
      "text/plain": [
       "[5, 6, 7]"
      ]
     },
     "execution_count": 24,
     "metadata": {},
     "output_type": "execute_result"
    }
   ],
   "source": [
    "list(map(lambda num:num+4,seq))"
   ]
  },
  {
   "cell_type": "code",
   "execution_count": 21,
   "id": "1c99da2f-4c77-4110-a56d-a114cc2f4716",
   "metadata": {},
   "outputs": [],
   "source": [
    "t=lambda num:num+2"
   ]
  },
  {
   "cell_type": "markdown",
   "id": "afc450d0-7926-46da-8414-47d6358767c7",
   "metadata": {},
   "source": [
    "also possible to call it by assigning it to a variable"
   ]
  },
  {
   "cell_type": "code",
   "execution_count": 22,
   "id": "dbae99ee-f3de-4bae-8ecc-eaf5e7f73c2c",
   "metadata": {},
   "outputs": [
    {
     "data": {
      "text/plain": [
       "9"
      ]
     },
     "execution_count": 22,
     "metadata": {},
     "output_type": "execute_result"
    }
   ],
   "source": [
    "t(7)\n",
    "\n"
   ]
  },
  {
   "cell_type": "code",
   "execution_count": 27,
   "id": "86451491-feb2-4382-80cc-1ba5cf9feabc",
   "metadata": {},
   "outputs": [],
   "source": [
    "def variables(var):\n",
    "    return var%2"
   ]
  },
  {
   "cell_type": "code",
   "execution_count": 28,
   "id": "1b5f9270-413f-4a32-8c55-fd95cfea62ac",
   "metadata": {},
   "outputs": [
    {
     "data": {
      "text/plain": [
       "0"
      ]
     },
     "execution_count": 28,
     "metadata": {},
     "output_type": "execute_result"
    }
   ],
   "source": [
    "variables(2)\n"
   ]
  },
  {
   "cell_type": "code",
   "execution_count": 50,
   "id": "a0adb9f0-c636-4256-925a-6eebce9765d5",
   "metadata": {},
   "outputs": [],
   "source": [
    "def times(value):\n",
    "    return value+2\n",
    "    "
   ]
  },
  {
   "cell_type": "code",
   "execution_count": 45,
   "id": "ce7a9c2f-1326-4e0a-a975-a1daa111fa16",
   "metadata": {},
   "outputs": [
    {
     "data": {
      "text/plain": [
       "3.0"
      ]
     },
     "execution_count": 45,
     "metadata": {},
     "output_type": "execute_result"
    }
   ],
   "source": [
    "times(6)"
   ]
  },
  {
   "cell_type": "code",
   "execution_count": 46,
   "id": "fe48352f-d72b-4980-8759-e60d9929cfe0",
   "metadata": {},
   "outputs": [],
   "source": [
    "seq = (1,2,3)"
   ]
  },
  {
   "cell_type": "code",
   "execution_count": 51,
   "id": "884ff2d5-9cf7-4888-87e8-208daa337a8f",
   "metadata": {},
   "outputs": [
    {
     "data": {
      "text/plain": [
       "<map at 0x2f5a2c8f040>"
      ]
     },
     "execution_count": 51,
     "metadata": {},
     "output_type": "execute_result"
    }
   ],
   "source": [
    "map(times,seq)"
   ]
  },
  {
   "cell_type": "code",
   "execution_count": 52,
   "id": "c2e7c2fb-5a70-4219-87c0-4a3286d60b69",
   "metadata": {},
   "outputs": [
    {
     "data": {
      "text/plain": [
       "[3, 4, 5]"
      ]
     },
     "execution_count": 52,
     "metadata": {},
     "output_type": "execute_result"
    }
   ],
   "source": [
    "list(map(times,seq))"
   ]
  },
  {
   "cell_type": "code",
   "execution_count": 55,
   "id": "d1a4b14a-d700-4a67-b0af-8b9348444ee5",
   "metadata": {},
   "outputs": [
    {
     "data": {
      "text/plain": [
       "[3, 4, 5]"
      ]
     },
     "execution_count": 55,
     "metadata": {},
     "output_type": "execute_result"
    }
   ],
   "source": [
    "list(map(lambda value:value+2,seq))"
   ]
  },
  {
   "cell_type": "code",
   "execution_count": 56,
   "id": "1dc334c6-dfd8-495d-8c88-23e2c3a107a2",
   "metadata": {},
   "outputs": [],
   "source": [
    "seq=[3,3,3]"
   ]
  },
  {
   "cell_type": "code",
   "execution_count": 57,
   "id": "5ba9909b-c211-4021-b8c6-380617bfbb43",
   "metadata": {},
   "outputs": [
    {
     "data": {
      "text/plain": [
       "[5, 5, 5]"
      ]
     },
     "execution_count": 57,
     "metadata": {},
     "output_type": "execute_result"
    }
   ],
   "source": [
    "list(map(lambda value:value+2,seq))"
   ]
  },
  {
   "cell_type": "code",
   "execution_count": null,
   "id": "b8fae088-e5e8-458e-ab51-e3d479f392db",
   "metadata": {},
   "outputs": [],
   "source": [
    "#FILTER just filters out elements from seq(iterable)"
   ]
  },
  {
   "cell_type": "markdown",
   "id": "6ed6e1e8-4c3c-4989-9dee-dad455c9ae5e",
   "metadata": {},
   "source": [
    "filter(either a func or lambda exprssion that returns a boolean value)"
   ]
  },
  {
   "cell_type": "code",
   "execution_count": 61,
   "id": "e51d59c0-37aa-43ec-a96d-9174f1e97d9d",
   "metadata": {},
   "outputs": [],
   "source": [
    "seq=[1,2,3,4,5,6,7,8,8,10]"
   ]
  },
  {
   "cell_type": "code",
   "execution_count": 62,
   "id": "711b05cb-1908-4315-9f0e-c3bc12edb666",
   "metadata": {},
   "outputs": [
    {
     "data": {
      "text/plain": [
       "[2, 4, 6, 8, 8, 10]"
      ]
     },
     "execution_count": 62,
     "metadata": {},
     "output_type": "execute_result"
    }
   ],
   "source": [
    "list(filter(lambda num:num%2==0,seq))"
   ]
  },
  {
   "cell_type": "code",
   "execution_count": 66,
   "id": "42c8da6e-8590-41ce-8975-f1ab67205563",
   "metadata": {},
   "outputs": [
    {
     "data": {
      "text/plain": [
       "[2]"
      ]
     },
     "execution_count": 66,
     "metadata": {},
     "output_type": "execute_result"
    }
   ],
   "source": [
    "list(filter(lambda num:num+2==4,seq))"
   ]
  },
  {
   "cell_type": "code",
   "execution_count": null,
   "id": "cde22ddf-0c34-451d-92dd-5e8e93ed034e",
   "metadata": {},
   "outputs": [],
   "source": [
    "#METHOD "
   ]
  },
  {
   "cell_type": "markdown",
   "id": "16db564a-cc3c-444a-b9be-ced742e7634e",
   "metadata": {},
   "source": [
    "it is a call we can give to return object in some manner"
   ]
  },
  {
   "cell_type": "code",
   "execution_count": 14,
   "id": "523f5d02-12bc-4562-9d56-19b3ef3d929e",
   "metadata": {},
   "outputs": [],
   "source": [
    "s = 'Hello my name is Angelin'"
   ]
  },
  {
   "cell_type": "code",
   "execution_count": 15,
   "id": "09fec3e9-0ed0-4a89-bc5e-3275285f82f7",
   "metadata": {},
   "outputs": [
    {
     "data": {
      "text/plain": [
       "'hello my name is angelin'"
      ]
     },
     "execution_count": 15,
     "metadata": {},
     "output_type": "execute_result"
    }
   ],
   "source": [
    "s.lower()"
   ]
  },
  {
   "cell_type": "code",
   "execution_count": 5,
   "id": "43d97d83-886f-41b2-b44a-0f1f98c1558f",
   "metadata": {},
   "outputs": [
    {
     "data": {
      "text/plain": [
       "'HELLO MY NAME IS ANGELIN'"
      ]
     },
     "execution_count": 5,
     "metadata": {},
     "output_type": "execute_result"
    }
   ],
   "source": [
    "s.upper()"
   ]
  },
  {
   "cell_type": "code",
   "execution_count": 16,
   "id": "ca246646-d4b4-480f-8366-96360d8e6526",
   "metadata": {},
   "outputs": [
    {
     "data": {
      "text/plain": [
       "['Hello', 'my', 'name', 'is', 'Angelin']"
      ]
     },
     "execution_count": 16,
     "metadata": {},
     "output_type": "execute_result"
    }
   ],
   "source": [
    "s.split()"
   ]
  },
  {
   "cell_type": "markdown",
   "id": "bf497b01-37fe-4544-8d54-9fda0948dbbb",
   "metadata": {},
   "source": [
    "split is a string method,breaks the string and gives a list of parts\n",
    "it split by spaces\n",
    "seperators can be comma,#,spaces"
   ]
  },
  {
   "cell_type": "code",
   "execution_count": 29,
   "id": "64790849-f22f-464c-a528-0334c55a3f6d",
   "metadata": {},
   "outputs": [],
   "source": [
    "tweet='Go python! ,, #learnpython'"
   ]
  },
  {
   "cell_type": "code",
   "execution_count": 30,
   "id": "11729298-776c-4535-bf14-770b1791aa54",
   "metadata": {},
   "outputs": [
    {
     "data": {
      "text/plain": [
       "['Go', 'python!', ',,', '#learnpython']"
      ]
     },
     "execution_count": 30,
     "metadata": {},
     "output_type": "execute_result"
    }
   ],
   "source": [
    "tweet.split()"
   ]
  },
  {
   "cell_type": "code",
   "execution_count": 20,
   "id": "33da98f5-d134-4965-856d-2d30346e4b8c",
   "metadata": {},
   "outputs": [
    {
     "data": {
      "text/plain": [
       "['Go python! ', 'learnpython']"
      ]
     },
     "execution_count": 20,
     "metadata": {},
     "output_type": "execute_result"
    }
   ],
   "source": [
    "tweet.split('#')"
   ]
  },
  {
   "cell_type": "code",
   "execution_count": 21,
   "id": "ba855e1b-fb39-4d85-9235-e36351040317",
   "metadata": {},
   "outputs": [
    {
     "data": {
      "text/plain": [
       "'learnpython'"
      ]
     },
     "execution_count": 21,
     "metadata": {},
     "output_type": "execute_result"
    }
   ],
   "source": [
    "tweet.split('#')[1]"
   ]
  },
  {
   "cell_type": "code",
   "execution_count": 35,
   "id": "5173f593-45ae-4ea6-8bf4-a8bf6bac7449",
   "metadata": {},
   "outputs": [],
   "source": [
    "s='hello world. I am Angelin'"
   ]
  },
  {
   "cell_type": "code",
   "execution_count": 36,
   "id": "c50928f3-be29-415c-b574-b4ef077381a6",
   "metadata": {},
   "outputs": [
    {
     "data": {
      "text/plain": [
       "['hello', 'world.', 'I', 'am', 'Angelin']"
      ]
     },
     "execution_count": 36,
     "metadata": {},
     "output_type": "execute_result"
    }
   ],
   "source": [
    "s.split()"
   ]
  },
  {
   "cell_type": "code",
   "execution_count": 37,
   "id": "acf69f7f-17bd-4e5f-886d-c1c8da7d90a6",
   "metadata": {},
   "outputs": [],
   "source": [
    "d={'k1':1,'k2':2}"
   ]
  },
  {
   "cell_type": "code",
   "execution_count": 38,
   "id": "e5968654-65a8-4f74-ab55-fae3baf27cf2",
   "metadata": {},
   "outputs": [
    {
     "data": {
      "text/plain": [
       "{'k1': 1, 'k2': 2}"
      ]
     },
     "execution_count": 38,
     "metadata": {},
     "output_type": "execute_result"
    }
   ],
   "source": [
    "d"
   ]
  },
  {
   "cell_type": "code",
   "execution_count": 42,
   "id": "05c1c1fb-3945-47b9-9c93-23ee36788a47",
   "metadata": {},
   "outputs": [
    {
     "data": {
      "text/plain": [
       "dict_keys(['k1', 'k2'])"
      ]
     },
     "execution_count": 42,
     "metadata": {},
     "output_type": "execute_result"
    }
   ],
   "source": [
    "d.keys()"
   ]
  },
  {
   "cell_type": "code",
   "execution_count": 43,
   "id": "1126df45-ec13-404b-8c6f-4b608f465393",
   "metadata": {},
   "outputs": [
    {
     "data": {
      "text/plain": [
       "dict_items([('k1', 1), ('k2', 2)])"
      ]
     },
     "execution_count": 43,
     "metadata": {},
     "output_type": "execute_result"
    }
   ],
   "source": [
    "d.items()"
   ]
  },
  {
   "cell_type": "code",
   "execution_count": 44,
   "id": "710e764a-ddcf-45f4-a219-fb08e07c09fa",
   "metadata": {},
   "outputs": [
    {
     "data": {
      "text/plain": [
       "dict_values([1, 2])"
      ]
     },
     "execution_count": 44,
     "metadata": {},
     "output_type": "execute_result"
    }
   ],
   "source": [
    "d.values()"
   ]
  },
  {
   "cell_type": "code",
   "execution_count": 66,
   "id": "8e026b5d-1605-4bd0-849e-cb98cb39cb7f",
   "metadata": {},
   "outputs": [],
   "source": [
    "list=[1,2,3,4,5]"
   ]
  },
  {
   "cell_type": "code",
   "execution_count": 67,
   "id": "1945c878-dc6d-4c1b-a3ff-d9e0a6cccd78",
   "metadata": {},
   "outputs": [
    {
     "data": {
      "text/plain": [
       "5"
      ]
     },
     "execution_count": 67,
     "metadata": {},
     "output_type": "execute_result"
    }
   ],
   "source": [
    "list.pop()"
   ]
  },
  {
   "cell_type": "code",
   "execution_count": 68,
   "id": "3f7b44cb-a955-4d9d-8f94-00f5c4e65e57",
   "metadata": {},
   "outputs": [
    {
     "data": {
      "text/plain": [
       "[1, 2, 3, 4]"
      ]
     },
     "execution_count": 68,
     "metadata": {},
     "output_type": "execute_result"
    }
   ],
   "source": [
    "list"
   ]
  },
  {
   "cell_type": "code",
   "execution_count": 69,
   "id": "259db340-b9b8-4e81-9d4a-0cda9ede3502",
   "metadata": {},
   "outputs": [],
   "source": [
    "item=list.pop()"
   ]
  },
  {
   "cell_type": "code",
   "execution_count": 70,
   "id": "f8891729-72c6-4b00-8fb6-0cad15d78709",
   "metadata": {},
   "outputs": [
    {
     "data": {
      "text/plain": [
       "[1, 2, 3]"
      ]
     },
     "execution_count": 70,
     "metadata": {},
     "output_type": "execute_result"
    }
   ],
   "source": [
    "list"
   ]
  },
  {
   "cell_type": "code",
   "execution_count": 71,
   "id": "e895cc66-4b9d-447d-8441-46f2861a87c9",
   "metadata": {},
   "outputs": [
    {
     "data": {
      "text/plain": [
       "4"
      ]
     },
     "execution_count": 71,
     "metadata": {},
     "output_type": "execute_result"
    }
   ],
   "source": [
    "item"
   ]
  },
  {
   "cell_type": "code",
   "execution_count": 72,
   "id": "038570e2-d387-46d6-b87a-c463b102e0db",
   "metadata": {},
   "outputs": [],
   "source": [
    "list=[1,2,3,4,5]"
   ]
  },
  {
   "cell_type": "code",
   "execution_count": 73,
   "id": "5492ad90-5012-42ae-842c-6381c5d12f07",
   "metadata": {},
   "outputs": [],
   "source": [
    "first=list.pop(0)"
   ]
  },
  {
   "cell_type": "code",
   "execution_count": 74,
   "id": "3b89882d-8185-4c95-ace3-e83b6f32e205",
   "metadata": {},
   "outputs": [
    {
     "data": {
      "text/plain": [
       "[2, 3, 4, 5]"
      ]
     },
     "execution_count": 74,
     "metadata": {},
     "output_type": "execute_result"
    }
   ],
   "source": [
    "list"
   ]
  },
  {
   "cell_type": "code",
   "execution_count": 75,
   "id": "e6147a14-6e09-4f20-88f5-73ef37c02b02",
   "metadata": {},
   "outputs": [],
   "source": [
    "list.append('new')"
   ]
  },
  {
   "cell_type": "code",
   "execution_count": 76,
   "id": "6b7bc9a6-f1a7-44a7-988f-1ce6638ceea1",
   "metadata": {},
   "outputs": [
    {
     "data": {
      "text/plain": [
       "[2, 3, 4, 5, 'new']"
      ]
     },
     "execution_count": 76,
     "metadata": {},
     "output_type": "execute_result"
    }
   ],
   "source": [
    "list"
   ]
  },
  {
   "cell_type": "code",
   "execution_count": 77,
   "id": "cb5622ab-14fa-40ff-b2a5-9602dfe55795",
   "metadata": {},
   "outputs": [
    {
     "data": {
      "text/plain": [
       "True"
      ]
     },
     "execution_count": 77,
     "metadata": {},
     "output_type": "execute_result"
    }
   ],
   "source": [
    "2 in [2,3,4]"
   ]
  },
  {
   "cell_type": "code",
   "execution_count": 78,
   "id": "25fdf815-74d6-406a-850e-362e6bf2a9e3",
   "metadata": {},
   "outputs": [
    {
     "data": {
      "text/plain": [
       "False"
      ]
     },
     "execution_count": 78,
     "metadata": {},
     "output_type": "execute_result"
    }
   ],
   "source": [
    "'x' in [1,2,3]"
   ]
  },
  {
   "cell_type": "code",
   "execution_count": 79,
   "id": "5c15bb5e-93d3-4065-a1d0-2ade215395f7",
   "metadata": {},
   "outputs": [],
   "source": [
    "#TUPLE UNPACKING"
   ]
  },
  {
   "cell_type": "markdown",
   "id": "df2481f6-63f8-495b-b1bf-6f86e8eb75bf",
   "metadata": {},
   "source": [
    "if there is a list of tuples"
   ]
  },
  {
   "cell_type": "code",
   "execution_count": 80,
   "id": "8cfbd5a8-93fb-4451-8dfc-59286e1e88ed",
   "metadata": {},
   "outputs": [],
   "source": [
    "l=[(1,2),(3,4),(5,6)]"
   ]
  },
  {
   "cell_type": "code",
   "execution_count": 85,
   "id": "5a4920c8-16fe-475c-8449-84092601b359",
   "metadata": {},
   "outputs": [
    {
     "name": "stdout",
     "output_type": "stream",
     "text": [
      "(1, 2)\n",
      "(3, 4)\n",
      "(5, 6)\n"
     ]
    }
   ],
   "source": [
    "for item in l:\n",
    "    print(item)"
   ]
  },
  {
   "cell_type": "code",
   "execution_count": 81,
   "id": "254559a0-88df-4288-93ba-5a397a30c100",
   "metadata": {},
   "outputs": [
    {
     "name": "stdout",
     "output_type": "stream",
     "text": [
      "1\n",
      "3\n",
      "5\n"
     ]
    }
   ],
   "source": [
    "for a,b in l:\n",
    "    print(a)"
   ]
  },
  {
   "cell_type": "code",
   "execution_count": 82,
   "id": "cbcab635-0bbe-4331-8056-35c43435d19c",
   "metadata": {},
   "outputs": [
    {
     "name": "stdout",
     "output_type": "stream",
     "text": [
      "2\n",
      "4\n",
      "6\n"
     ]
    }
   ],
   "source": [
    "for a,b in l:\n",
    "    print(b)"
   ]
  },
  {
   "cell_type": "code",
   "execution_count": 84,
   "id": "738b379a-0057-4325-8b56-ce039b8da53c",
   "metadata": {},
   "outputs": [
    {
     "name": "stdout",
     "output_type": "stream",
     "text": [
      "1\n",
      "2\n",
      "3\n",
      "4\n",
      "5\n",
      "6\n"
     ]
    }
   ],
   "source": [
    "for a,b in l:\n",
    "    print(a)\n",
    "    print(b)"
   ]
  },
  {
   "cell_type": "code",
   "execution_count": 86,
   "id": "513042c0-6f10-4d98-b2a1-fdae2f742d71",
   "metadata": {},
   "outputs": [],
   "source": [
    "s='hello#world#i#m#happy'"
   ]
  },
  {
   "cell_type": "code",
   "execution_count": 89,
   "id": "62f7bd63-6a03-4272-8de2-28a1decb6d41",
   "metadata": {},
   "outputs": [
    {
     "data": {
      "text/plain": [
       "['hello', 'world', 'i', 'm', 'happy']"
      ]
     },
     "execution_count": 89,
     "metadata": {},
     "output_type": "execute_result"
    }
   ],
   "source": [
    "s.split('#')"
   ]
  },
  {
   "cell_type": "code",
   "execution_count": null,
   "id": "1b19a08e-6cd2-47f5-b74c-8e44ccf67dd8",
   "metadata": {},
   "outputs": [],
   "source": []
  }
 ],
 "metadata": {
  "kernelspec": {
   "display_name": "Python 3 (ipykernel)",
   "language": "python",
   "name": "python3"
  },
  "language_info": {
   "codemirror_mode": {
    "name": "ipython",
    "version": 3
   },
   "file_extension": ".py",
   "mimetype": "text/x-python",
   "name": "python",
   "nbconvert_exporter": "python",
   "pygments_lexer": "ipython3",
   "version": "3.12.7"
  }
 },
 "nbformat": 4,
 "nbformat_minor": 5
}

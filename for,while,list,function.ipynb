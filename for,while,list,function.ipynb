{
 "cells": [
  {
   "cell_type": "code",
   "execution_count": null,
   "id": "0ff0ced7-baa4-4f76-8ca9-ff458a731587",
   "metadata": {},
   "outputs": [],
   "source": [
    "#FOR loop(helps to iterate through each item in a sequence)"
   ]
  },
  {
   "cell_type": "code",
   "execution_count": 3,
   "id": "7de39920-d7b7-47f7-b04b-be391abd246c",
   "metadata": {},
   "outputs": [],
   "source": [
    "seq=[1,2,3,4,5]"
   ]
  },
  {
   "cell_type": "code",
   "execution_count": 4,
   "id": "22ffe9c2-8b8a-4e73-8485-c691b47f3495",
   "metadata": {},
   "outputs": [
    {
     "name": "stdout",
     "output_type": "stream",
     "text": [
      "1\n",
      "2\n",
      "3\n",
      "4\n",
      "5\n"
     ]
    }
   ],
   "source": [
    "for num in seq:\n",
    "    print(num)"
   ]
  },
  {
   "cell_type": "code",
   "execution_count": 5,
   "id": "dc23a5fa-7c6f-4cb7-bb69-43478179cf89",
   "metadata": {},
   "outputs": [
    {
     "name": "stdout",
     "output_type": "stream",
     "text": [
      "angelin is good\n",
      "angelin is good\n",
      "angelin is good\n",
      "angelin is good\n",
      "angelin is good\n"
     ]
    }
   ],
   "source": [
    "for angelin in seq:\n",
    "    print('angelin is good')"
   ]
  },
  {
   "cell_type": "code",
   "execution_count": 1,
   "id": "281e52e8-2c9d-43bd-8cd2-c6de2dd417e3",
   "metadata": {},
   "outputs": [],
   "source": [
    "#WHILE loop(it iterates loop until a condition is met)"
   ]
  },
  {
   "cell_type": "code",
   "execution_count": 1,
   "id": "226cd4d9-4330-4929-915d-325d8073f06b",
   "metadata": {},
   "outputs": [
    {
     "name": "stdout",
     "output_type": "stream",
     "text": [
      "hi :1\n",
      "hi :2\n",
      "hi :3\n",
      "hi :4\n"
     ]
    }
   ],
   "source": [
    "i=1\n",
    "while i<5:\n",
    "    print('hi :{}'.format(i))\n",
    "    i=i+1"
   ]
  },
  {
   "cell_type": "code",
   "execution_count": 2,
   "id": "d12a69c9-a13d-4c6d-969f-f5ba18b598b4",
   "metadata": {},
   "outputs": [],
   "source": [
    "#RANGE(generator)rather than typing whole list"
   ]
  },
  {
   "cell_type": "code",
   "execution_count": 3,
   "id": "29e62d54-7ad6-4799-838a-b8f17dc7ada0",
   "metadata": {},
   "outputs": [
    {
     "data": {
      "text/plain": [
       "range(0, 8)"
      ]
     },
     "execution_count": 3,
     "metadata": {},
     "output_type": "execute_result"
    }
   ],
   "source": [
    "range(8)"
   ]
  },
  {
   "cell_type": "code",
   "execution_count": 8,
   "id": "d6a8a646-ae98-4378-8db7-6b99e625a6f1",
   "metadata": {},
   "outputs": [
    {
     "name": "stdout",
     "output_type": "stream",
     "text": [
      "0\n",
      "1\n",
      "2\n",
      "3\n",
      "4\n",
      "5\n",
      "6\n",
      "7\n"
     ]
    }
   ],
   "source": [
    "for seq in range(0,8):\n",
    "    print(seq)\n"
   ]
  },
  {
   "cell_type": "code",
   "execution_count": 9,
   "id": "e503745f-9417-4681-99b1-99002c3bc20a",
   "metadata": {},
   "outputs": [
    {
     "data": {
      "text/plain": [
       "[0, 1, 2, 3, 4, 5, 6, 7]"
      ]
     },
     "execution_count": 9,
     "metadata": {},
     "output_type": "execute_result"
    }
   ],
   "source": [
    "list(range(8))"
   ]
  },
  {
   "cell_type": "code",
   "execution_count": 10,
   "id": "fe5681e1-b772-4935-adf9-f2d4df3c61ce",
   "metadata": {},
   "outputs": [
    {
     "data": {
      "text/plain": [
       "range(0, 9)"
      ]
     },
     "execution_count": 10,
     "metadata": {},
     "output_type": "execute_result"
    }
   ],
   "source": [
    "range(9)"
   ]
  },
  {
   "cell_type": "code",
   "execution_count": 14,
   "id": "672096da-c513-4936-ac96-1ac0359eccd9",
   "metadata": {},
   "outputs": [],
   "source": [
    "s=[1,2,3]"
   ]
  },
  {
   "cell_type": "code",
   "execution_count": 18,
   "id": "bc29bede-9c9c-43bb-9a71-87b96a07f520",
   "metadata": {},
   "outputs": [
    {
     "ename": "SyntaxError",
     "evalue": "incomplete input (4072190417.py, line 1)",
     "output_type": "error",
     "traceback": [
      "\u001b[1;36m  Cell \u001b[1;32mIn[18], line 1\u001b[1;36m\u001b[0m\n\u001b[1;33m    s=list(range(0, 9)\u001b[0m\n\u001b[1;37m                      ^\u001b[0m\n\u001b[1;31mSyntaxError\u001b[0m\u001b[1;31m:\u001b[0m incomplete input\n"
     ]
    }
   ],
   "source": [
    "s=list(range(0, 9)"
   ]
  },
  {
   "cell_type": "code",
   "execution_count": null,
   "id": "9d5cdeff-61f1-44e5-a78f-a2a6c9a8fb64",
   "metadata": {},
   "outputs": [],
   "source": [
    "#LIST COMPREHENSION(offers a shorter syntax to createa new list from an existing list)\n",
    "kind of a for loop but backwards"
   ]
  },
  {
   "cell_type": "code",
   "execution_count": 25,
   "id": "880f5b53-99c3-4c89-97ad-61568c3fc1e5",
   "metadata": {},
   "outputs": [],
   "source": [
    "seq=[1,2,3,4,5]"
   ]
  },
  {
   "cell_type": "code",
   "execution_count": 26,
   "id": "7dcee1ff-3b2f-4b5e-81ef-a5283e812267",
   "metadata": {},
   "outputs": [
    {
     "data": {
      "text/plain": [
       "[1, 4, 9, 16, 25]"
      ]
     },
     "execution_count": 26,
     "metadata": {},
     "output_type": "execute_result"
    }
   ],
   "source": [
    "[num**2 for num in seq]"
   ]
  },
  {
   "cell_type": "markdown",
   "id": "da87d792-2731-46af-9601-19957ecf56a2",
   "metadata": {
    "jupyter": {
     "source_hidden": true
    }
   },
   "source": [
    "the (instead for loop)"
   ]
  },
  {
   "cell_type": "code",
   "execution_count": 32,
   "id": "1e7def81-d4b4-4dcf-a267-be3aa000aa29",
   "metadata": {},
   "outputs": [],
   "source": [
    "out=[]\n",
    "for num in seq:\n",
    "    out.append(num**2)"
   ]
  },
  {
   "cell_type": "code",
   "execution_count": 33,
   "id": "868ca69f-c5ae-440b-9907-7cd7dce60353",
   "metadata": {},
   "outputs": [
    {
     "name": "stdout",
     "output_type": "stream",
     "text": [
      "[1, 4, 9, 16, 25]\n"
     ]
    }
   ],
   "source": [
    "print(out)\n"
   ]
  },
  {
   "cell_type": "markdown",
   "id": "e469592a-7ffc-47e7-bd86-2c5aa5ea2aff",
   "metadata": {
    "jupyter": {
     "source_hidden": true
    }
   },
   "source": [
    "how for loop in backwards"
   ]
  },
  {
   "cell_type": "code",
   "execution_count": 34,
   "id": "4551bbd9-4436-411f-ad70-4634ddc4f468",
   "metadata": {},
   "outputs": [],
   "source": [
    "out=[num**2 for num in seq]"
   ]
  },
  {
   "cell_type": "code",
   "execution_count": 35,
   "id": "413f23a2-c03b-41a7-8bc2-d871e8709a43",
   "metadata": {},
   "outputs": [
    {
     "data": {
      "text/plain": [
       "[1, 4, 9, 16, 25]"
      ]
     },
     "execution_count": 35,
     "metadata": {},
     "output_type": "execute_result"
    }
   ],
   "source": [
    "out"
   ]
  },
  {
   "cell_type": "code",
   "execution_count": null,
   "id": "6bd82258-b4a9-4377-bf9c-2909deebac7a",
   "metadata": {},
   "outputs": [],
   "source": [
    "#FUNCTION(doesnt hve to write code again and again,instead call fun\n",
    "keyword:def(defines func)\n",
    "def name_of_func(param1):\n",
    "    arguement will be printed if called\n",
    "functionnames starts with lowercases\n",
    "funct names with paranthesis only calls a function\n",
    "print('angelin')==is executing code\n",
    "default  ..assigning a defualt value to a parameter"
   ]
  },
  {
   "cell_type": "code",
   "execution_count": 15,
   "id": "f23e23de-0962-4a2e-9371-c531e5f62064",
   "metadata": {},
   "outputs": [],
   "source": [
    "def call(name):\n",
    "    print('angelin')\n"
   ]
  },
  {
   "cell_type": "code",
   "execution_count": 19,
   "id": "093ca978-7f19-426a-8008-4d8329266eaa",
   "metadata": {},
   "outputs": [
    {
     "name": "stdout",
     "output_type": "stream",
     "text": [
      "angelin\n"
     ]
    }
   ],
   "source": [
    "call('angelin')"
   ]
  },
  {
   "cell_type": "code",
   "execution_count": 28,
   "id": "b037f912-61e6-424e-8bc4-5f3fd47420ba",
   "metadata": {},
   "outputs": [],
   "source": [
    "def my_func(name):\n",
    "    print('hello '+name)"
   ]
  },
  {
   "cell_type": "code",
   "execution_count": 29,
   "id": "82834834-83f6-40f4-bc4c-42e6e6bb7f0e",
   "metadata": {},
   "outputs": [
    {
     "name": "stdout",
     "output_type": "stream",
     "text": [
      "hello angelin\n"
     ]
    }
   ],
   "source": [
    "my_func('angelin')"
   ]
  },
  {
   "cell_type": "code",
   "execution_count": 35,
   "id": "25cc351e-db1f-45c8-b346-7371e2d3bccd",
   "metadata": {},
   "outputs": [],
   "source": [
    "def default(hi='defame'):\n",
    "    print('hello '+hi)"
   ]
  },
  {
   "cell_type": "code",
   "execution_count": 36,
   "id": "b74c711c-a456-485e-b75c-b95474c1a990",
   "metadata": {},
   "outputs": [
    {
     "name": "stdout",
     "output_type": "stream",
     "text": [
      "hello defame\n"
     ]
    }
   ],
   "source": [
    "default()"
   ]
  },
  {
   "cell_type": "code",
   "execution_count": 38,
   "id": "bcca37ea-e08f-4abb-9241-1086bb5639ce",
   "metadata": {},
   "outputs": [
    {
     "name": "stdout",
     "output_type": "stream",
     "text": [
      "hello angelin\n"
     ]
    }
   ],
   "source": [
    "default('angelin')"
   ]
  },
  {
   "cell_type": "code",
   "execution_count": 39,
   "id": "b3de9eb2-4bb2-49a6-a6cc-1253337b4668",
   "metadata": {},
   "outputs": [
    {
     "data": {
      "text/plain": [
       "<function __main__.default(hi='defame')>"
      ]
     },
     "execution_count": 39,
     "metadata": {},
     "output_type": "execute_result"
    }
   ],
   "source": [
    "default"
   ]
  },
  {
   "cell_type": "code",
   "execution_count": 40,
   "id": "d16f5159-36bf-4163-a19b-1929747aec88",
   "metadata": {},
   "outputs": [
    {
     "data": {
      "text/plain": [
       "<function __main__.my_func(name)>"
      ]
     },
     "execution_count": 40,
     "metadata": {},
     "output_type": "execute_result"
    }
   ],
   "source": [
    "my_func"
   ]
  },
  {
   "cell_type": "code",
   "execution_count": null,
   "id": "2ca3625c-5c5c-43c8-83a0-42b8b803b13f",
   "metadata": {},
   "outputs": [],
   "source": [
    "#return"
   ]
  },
  {
   "cell_type": "code",
   "execution_count": 53,
   "id": "1373bfaf-ba65-470b-9a07-ee382d0315b6",
   "metadata": {},
   "outputs": [],
   "source": [
    "def square(num):\n",
    "    return(num**2)"
   ]
  },
  {
   "cell_type": "code",
   "execution_count": 54,
   "id": "ed0455e7-464c-4e91-b6db-f8dae94f751b",
   "metadata": {},
   "outputs": [],
   "source": [
    "op=square(4)"
   ]
  },
  {
   "cell_type": "code",
   "execution_count": 55,
   "id": "be6bdc19-4fce-4165-a593-69c387064513",
   "metadata": {},
   "outputs": [
    {
     "data": {
      "text/plain": [
       "16"
      ]
     },
     "execution_count": 55,
     "metadata": {},
     "output_type": "execute_result"
    }
   ],
   "source": [
    "op"
   ]
  },
  {
   "cell_type": "code",
   "execution_count": 60,
   "id": "36d5e682-4cbf-45b5-9956-47d9e9b4f1ef",
   "metadata": {},
   "outputs": [],
   "source": [
    "def hi(name):\n",
    "    \"\"\"\n",
    "THIS IS A DOC STRING\n",
    "\n",
    "    \"\"\"\n",
    "    print(\"hi\")\n",
    "    "
   ]
  },
  {
   "cell_type": "code",
   "execution_count": null,
   "id": "aa7eeb8f-7177-4ef6-ba62-81cdb804da7d",
   "metadata": {},
   "outputs": [],
   "source": [
    "hi                 "
   ]
  },
  {
   "cell_type": "code",
   "execution_count": null,
   "id": "118ddb86-a992-496b-ac62-a90d410969e9",
   "metadata": {},
   "outputs": [],
   "source": [
    "range"
   ]
  }
 ],
 "metadata": {
  "kernelspec": {
   "display_name": "Python 3 (ipykernel)",
   "language": "python",
   "name": "python3"
  },
  "language_info": {
   "codemirror_mode": {
    "name": "ipython",
    "version": 3
   },
   "file_extension": ".py",
   "mimetype": "text/x-python",
   "name": "python",
   "nbconvert_exporter": "python",
   "pygments_lexer": "ipython3",
   "version": "3.12.7"
  }
 },
 "nbformat": 4,
 "nbformat_minor": 5
}

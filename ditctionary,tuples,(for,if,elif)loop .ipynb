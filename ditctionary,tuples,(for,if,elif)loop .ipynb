{
 "cells": [
  {
   "cell_type": "code",
   "execution_count": null,
   "id": "c4785ac0-2ce4-433a-a8f1-1d204e3a7061",
   "metadata": {},
   "outputs": [],
   "source": [
    "#DICTIONORY{}"
   ]
  },
  {
   "cell_type": "markdown",
   "id": "7e4a703c-c3c6-49b9-8d2d-99954140f85f",
   "metadata": {},
   "source": [
    "It is a key value pair and loc  can be grabbed by keys"
   ]
  },
  {
   "cell_type": "code",
   "execution_count": 27,
   "id": "42ae75fd-a16b-47e7-b2db-57462abf75ae",
   "metadata": {},
   "outputs": [],
   "source": [
    "d={'key 1':'value','key 2':[1,2,3]}"
   ]
  },
  {
   "cell_type": "code",
   "execution_count": 28,
   "id": "dbe1cda1-1af5-45da-9fe8-6bc08a44ed68",
   "metadata": {},
   "outputs": [
    {
     "data": {
      "text/plain": [
       "'value'"
      ]
     },
     "execution_count": 28,
     "metadata": {},
     "output_type": "execute_result"
    }
   ],
   "source": [
    "d['key 1']"
   ]
  },
  {
   "cell_type": "code",
   "execution_count": 29,
   "id": "55aae354-0149-4b68-bf83-286c2d2ccfa8",
   "metadata": {},
   "outputs": [
    {
     "data": {
      "text/plain": [
       "[1, 2, 3]"
      ]
     },
     "execution_count": 29,
     "metadata": {},
     "output_type": "execute_result"
    }
   ],
   "source": [
    "d['key 2']"
   ]
  },
  {
   "cell_type": "code",
   "execution_count": 32,
   "id": "98b0dccc-a6f0-4942-9de7-4e3e7eca1a91",
   "metadata": {},
   "outputs": [
    {
     "data": {
      "text/plain": [
       "3"
      ]
     },
     "execution_count": 32,
     "metadata": {},
     "output_type": "execute_result"
    }
   ],
   "source": [
    "d['key 2'][2]"
   ]
  },
  {
   "cell_type": "code",
   "execution_count": 1,
   "id": "65d8dba4-ef85-4e17-988f-fb63b6335433",
   "metadata": {},
   "outputs": [],
   "source": [
    "d={'key 1':3}"
   ]
  },
  {
   "cell_type": "code",
   "execution_count": 4,
   "id": "d43f1751-6d7c-46a1-9604-08cc8f8e2fc0",
   "metadata": {},
   "outputs": [
    {
     "data": {
      "text/plain": [
       "3"
      ]
     },
     "execution_count": 4,
     "metadata": {},
     "output_type": "execute_result"
    }
   ],
   "source": [
    "d['key 1']"
   ]
  },
  {
   "cell_type": "code",
   "execution_count": 5,
   "id": "290f90ac-8674-4a2f-93de-3a4b96592dea",
   "metadata": {},
   "outputs": [],
   "source": [
    "d={'yo':2}"
   ]
  },
  {
   "cell_type": "code",
   "execution_count": 6,
   "id": "15a25deb-8ac5-4e6c-ba7f-90357eabde2f",
   "metadata": {},
   "outputs": [
    {
     "data": {
      "text/plain": [
       "2"
      ]
     },
     "execution_count": 6,
     "metadata": {},
     "output_type": "execute_result"
    }
   ],
   "source": [
    "d['yo']"
   ]
  },
  {
   "cell_type": "code",
   "execution_count": 7,
   "id": "cc02affd-3cd5-4fca-b4bc-62660b93eaf6",
   "metadata": {},
   "outputs": [],
   "source": [
    "d={2:4}"
   ]
  },
  {
   "cell_type": "code",
   "execution_count": 8,
   "id": "72e41a38-7fbc-483d-89c2-c63f75e401f7",
   "metadata": {},
   "outputs": [
    {
     "data": {
      "text/plain": [
       "4"
      ]
     },
     "execution_count": 8,
     "metadata": {},
     "output_type": "execute_result"
    }
   ],
   "source": [
    "d[2]"
   ]
  },
  {
   "cell_type": "code",
   "execution_count": 10,
   "id": "8eb5b417-4ed0-4664-98b1-d1ffd61f2dc9",
   "metadata": {},
   "outputs": [],
   "source": [
    "d={'k1':{'k2':3}}"
   ]
  },
  {
   "cell_type": "code",
   "execution_count": 23,
   "id": "ce922a15-6f72-42b6-9078-7cde6f9058f8",
   "metadata": {},
   "outputs": [],
   "source": [
    "my_list=d"
   ]
  },
  {
   "cell_type": "code",
   "execution_count": 25,
   "id": "7de30afd-e3fb-4001-b114-19611fcbcf27",
   "metadata": {},
   "outputs": [
    {
     "data": {
      "text/plain": [
       "3"
      ]
     },
     "execution_count": 25,
     "metadata": {},
     "output_type": "execute_result"
    }
   ],
   "source": [
    "my_list['k1']['k2']"
   ]
  },
  {
   "cell_type": "code",
   "execution_count": 15,
   "id": "b69ad869-e4f6-416e-a3e0-a5adef6a8867",
   "metadata": {},
   "outputs": [
    {
     "data": {
      "text/plain": [
       "3"
      ]
     },
     "execution_count": 15,
     "metadata": {},
     "output_type": "execute_result"
    }
   ],
   "source": [
    "d['k1']['k2']"
   ]
  },
  {
   "cell_type": "code",
   "execution_count": null,
   "id": "70d1dc62-16df-4563-9dff-25d4f5dce92b",
   "metadata": {},
   "outputs": [],
   "source": [
    "#TUPLES(difference of it from lists-values cannot be reassined)"
   ]
  },
  {
   "cell_type": "code",
   "execution_count": 33,
   "id": "14deb1ac-bd44-4a9b-9ab4-85c640511907",
   "metadata": {},
   "outputs": [],
   "source": [
    "t=(1,2,3)\n"
   ]
  },
  {
   "cell_type": "code",
   "execution_count": 38,
   "id": "047a9dbb-669b-4c75-a4a6-f9825e4e7d12",
   "metadata": {},
   "outputs": [
    {
     "data": {
      "text/plain": [
       "(1, 2, 3)"
      ]
     },
     "execution_count": 38,
     "metadata": {},
     "output_type": "execute_result"
    }
   ],
   "source": [
    "t"
   ]
  },
  {
   "cell_type": "code",
   "execution_count": 39,
   "id": "1af74b1f-00f6-4a59-8655-343c7ecd2cd2",
   "metadata": {},
   "outputs": [
    {
     "ename": "TypeError",
     "evalue": "'tuple' object does not support item assignment",
     "output_type": "error",
     "traceback": [
      "\u001b[1;31m---------------------------------------------------------------------------\u001b[0m",
      "\u001b[1;31mTypeError\u001b[0m                                 Traceback (most recent call last)",
      "Cell \u001b[1;32mIn[39], line 1\u001b[0m\n\u001b[1;32m----> 1\u001b[0m t[\u001b[38;5;241m0\u001b[39m]\u001b[38;5;241m=\u001b[39m\u001b[38;5;241m6\u001b[39m\n",
      "\u001b[1;31mTypeError\u001b[0m: 'tuple' object does not support item assignment"
     ]
    }
   ],
   "source": [
    "t[0]=6"
   ]
  },
  {
   "cell_type": "code",
   "execution_count": 40,
   "id": "b2ce18ba-2e84-4452-98f3-1acf97d4bc70",
   "metadata": {},
   "outputs": [],
   "source": [
    "t=('hi','hello')"
   ]
  },
  {
   "cell_type": "code",
   "execution_count": 41,
   "id": "dd00a4cf-9a86-4533-b977-ca6637aa8b04",
   "metadata": {},
   "outputs": [
    {
     "data": {
      "text/plain": [
       "('hi', 'hello')"
      ]
     },
     "execution_count": 41,
     "metadata": {},
     "output_type": "execute_result"
    }
   ],
   "source": [
    "t"
   ]
  },
  {
   "cell_type": "code",
   "execution_count": null,
   "id": "4d883138-bce5-429c-9443-0876a8ca77d7",
   "metadata": {},
   "outputs": [],
   "source": [
    "#BOOLEAN"
   ]
  },
  {
   "cell_type": "code",
   "execution_count": 45,
   "id": "e84be8af-2d97-4d5a-89b5-ce107ded6d5a",
   "metadata": {},
   "outputs": [
    {
     "ename": "NameError",
     "evalue": "name 'true' is not defined",
     "output_type": "error",
     "traceback": [
      "\u001b[1;31m---------------------------------------------------------------------------\u001b[0m",
      "\u001b[1;31mNameError\u001b[0m                                 Traceback (most recent call last)",
      "Cell \u001b[1;32mIn[45], line 1\u001b[0m\n\u001b[1;32m----> 1\u001b[0m true\n",
      "\u001b[1;31mNameError\u001b[0m: name 'true' is not defined"
     ]
    }
   ],
   "source": [
    "true"
   ]
  },
  {
   "cell_type": "code",
   "execution_count": 43,
   "id": "61528361-bcc9-40cc-8d3b-a7373c7c22b4",
   "metadata": {},
   "outputs": [
    {
     "data": {
      "text/plain": [
       "True"
      ]
     },
     "execution_count": 43,
     "metadata": {},
     "output_type": "execute_result"
    }
   ],
   "source": [
    "True"
   ]
  },
  {
   "cell_type": "code",
   "execution_count": 44,
   "id": "8e932893-8a04-4537-8b91-fd9f56f32cb4",
   "metadata": {},
   "outputs": [
    {
     "data": {
      "text/plain": [
       "False"
      ]
     },
     "execution_count": 44,
     "metadata": {},
     "output_type": "execute_result"
    }
   ],
   "source": [
    "False"
   ]
  },
  {
   "cell_type": "code",
   "execution_count": 47,
   "id": "df1fc42e-9a07-43f6-a2e3-118bbf1ae881",
   "metadata": {},
   "outputs": [],
   "source": [
    "#SETS(unique set of elements)"
   ]
  },
  {
   "cell_type": "code",
   "execution_count": 48,
   "id": "026d3867-23bf-4b41-97bf-b67c62ea20fd",
   "metadata": {},
   "outputs": [],
   "source": [
    "s={1,1,1,2,2,2,3,3,3}"
   ]
  },
  {
   "cell_type": "code",
   "execution_count": 49,
   "id": "06668775-5e23-4d75-9a25-a300e8105cd4",
   "metadata": {},
   "outputs": [
    {
     "data": {
      "text/plain": [
       "{1, 2, 3}"
      ]
     },
     "execution_count": 49,
     "metadata": {},
     "output_type": "execute_result"
    }
   ],
   "source": [
    "s"
   ]
  },
  {
   "cell_type": "code",
   "execution_count": 53,
   "id": "a2cf1711-ff14-4f22-89c0-81f1febf2937",
   "metadata": {},
   "outputs": [],
   "source": [
    "s.add(4)"
   ]
  },
  {
   "cell_type": "code",
   "execution_count": 54,
   "id": "dc8a10a8-1c51-4a37-b08c-52f0512d7500",
   "metadata": {},
   "outputs": [
    {
     "data": {
      "text/plain": [
       "{1, 2, 3, 4}"
      ]
     },
     "execution_count": 54,
     "metadata": {},
     "output_type": "execute_result"
    }
   ],
   "source": [
    "s"
   ]
  },
  {
   "cell_type": "code",
   "execution_count": 55,
   "id": "5998dc2a-e058-4328-b2e1-7c95bc0c0b23",
   "metadata": {},
   "outputs": [],
   "source": [
    "s={'value','hi'}"
   ]
  },
  {
   "cell_type": "code",
   "execution_count": 56,
   "id": "2e282feb-f6b1-422b-9912-0e69e74cc384",
   "metadata": {},
   "outputs": [
    {
     "data": {
      "text/plain": [
       "{'hi', 'value'}"
      ]
     },
     "execution_count": 56,
     "metadata": {},
     "output_type": "execute_result"
    }
   ],
   "source": [
    "s"
   ]
  },
  {
   "cell_type": "code",
   "execution_count": 60,
   "id": "913831b6-6e70-46a7-9de6-de9e70e1568d",
   "metadata": {},
   "outputs": [
    {
     "ename": "TypeError",
     "evalue": "'set' object is not subscriptable",
     "output_type": "error",
     "traceback": [
      "\u001b[1;31m---------------------------------------------------------------------------\u001b[0m",
      "\u001b[1;31mTypeError\u001b[0m                                 Traceback (most recent call last)",
      "Cell \u001b[1;32mIn[60], line 1\u001b[0m\n\u001b[1;32m----> 1\u001b[0m s[\u001b[38;5;241m3\u001b[39m]\n",
      "\u001b[1;31mTypeError\u001b[0m: 'set' object is not subscriptable"
     ]
    }
   ],
   "source": [
    "s[3]"
   ]
  },
  {
   "cell_type": "code",
   "execution_count": 61,
   "id": "9b3f9752-8ac2-4524-8c69-3fc5720deed7",
   "metadata": {},
   "outputs": [],
   "source": [
    "#COMPARATORS"
   ]
  },
  {
   "cell_type": "code",
   "execution_count": 62,
   "id": "d32e41d4-f864-4c74-968d-a741d8dd3e68",
   "metadata": {},
   "outputs": [
    {
     "data": {
      "text/plain": [
       "True"
      ]
     },
     "execution_count": 62,
     "metadata": {},
     "output_type": "execute_result"
    }
   ],
   "source": [
    "1<2"
   ]
  },
  {
   "cell_type": "code",
   "execution_count": 63,
   "id": "acc64eb1-234d-4bc7-bd39-25a3c156c210",
   "metadata": {},
   "outputs": [
    {
     "data": {
      "text/plain": [
       "False"
      ]
     },
     "execution_count": 63,
     "metadata": {},
     "output_type": "execute_result"
    }
   ],
   "source": [
    "3<2"
   ]
  },
  {
   "cell_type": "code",
   "execution_count": 64,
   "id": "cbf609d7-f4bd-4c59-a36e-33af1a30cf26",
   "metadata": {},
   "outputs": [
    {
     "data": {
      "text/plain": [
       "False"
      ]
     },
     "execution_count": 64,
     "metadata": {},
     "output_type": "execute_result"
    }
   ],
   "source": [
    "2==4"
   ]
  },
  {
   "cell_type": "code",
   "execution_count": 65,
   "id": "a67186bb-5e04-4c48-99ce-80c84318b080",
   "metadata": {},
   "outputs": [
    {
     "ename": "SyntaxError",
     "evalue": "cannot assign to literal here. Maybe you meant '==' instead of '='? (1235144247.py, line 1)",
     "output_type": "error",
     "traceback": [
      "\u001b[1;36m  Cell \u001b[1;32mIn[65], line 1\u001b[1;36m\u001b[0m\n\u001b[1;33m    2=5\u001b[0m\n\u001b[1;37m    ^\u001b[0m\n\u001b[1;31mSyntaxError\u001b[0m\u001b[1;31m:\u001b[0m cannot assign to literal here. Maybe you meant '==' instead of '='?\n"
     ]
    }
   ],
   "source": [
    "2=5"
   ]
  },
  {
   "cell_type": "code",
   "execution_count": 66,
   "id": "778fa6f0-ad1a-42a0-b8fa-217e2753597c",
   "metadata": {},
   "outputs": [
    {
     "data": {
      "text/plain": [
       "False"
      ]
     },
     "execution_count": 66,
     "metadata": {},
     "output_type": "execute_result"
    }
   ],
   "source": [
    "6!=6"
   ]
  },
  {
   "cell_type": "code",
   "execution_count": 67,
   "id": "5bf797a9-f81e-49e9-8acb-478668348fe8",
   "metadata": {},
   "outputs": [
    {
     "data": {
      "text/plain": [
       "True"
      ]
     },
     "execution_count": 67,
     "metadata": {},
     "output_type": "execute_result"
    }
   ],
   "source": [
    "3!=2"
   ]
  },
  {
   "cell_type": "code",
   "execution_count": 69,
   "id": "44827c89-e032-4d5d-bdd5-ad2431907c71",
   "metadata": {},
   "outputs": [
    {
     "data": {
      "text/plain": [
       "False"
      ]
     },
     "execution_count": 69,
     "metadata": {},
     "output_type": "execute_result"
    }
   ],
   "source": [
    "1<2 and 3>4"
   ]
  },
  {
   "cell_type": "code",
   "execution_count": 70,
   "id": "9ade2a70-621d-4556-bf05-1cbb8aca8492",
   "metadata": {},
   "outputs": [
    {
     "data": {
      "text/plain": [
       "True"
      ]
     },
     "execution_count": 70,
     "metadata": {},
     "output_type": "execute_result"
    }
   ],
   "source": [
    "1<2 and 3<4"
   ]
  },
  {
   "cell_type": "code",
   "execution_count": 71,
   "id": "b07d3e39-191e-4698-99c9-b9ecd1d31c46",
   "metadata": {},
   "outputs": [
    {
     "data": {
      "text/plain": [
       "True"
      ]
     },
     "execution_count": 71,
     "metadata": {},
     "output_type": "execute_result"
    }
   ],
   "source": [
    "2<3 or 5>4"
   ]
  },
  {
   "cell_type": "code",
   "execution_count": 72,
   "id": "8232359e-c1b1-442c-a17d-e9f94ce8fa70",
   "metadata": {},
   "outputs": [
    {
     "data": {
      "text/plain": [
       "True"
      ]
     },
     "execution_count": 72,
     "metadata": {},
     "output_type": "execute_result"
    }
   ],
   "source": [
    "2<3 or 3<4"
   ]
  },
  {
   "cell_type": "code",
   "execution_count": 73,
   "id": "90533411-6121-493f-842a-b5a8a6d951cf",
   "metadata": {},
   "outputs": [
    {
     "data": {
      "text/plain": [
       "False"
      ]
     },
     "execution_count": 73,
     "metadata": {},
     "output_type": "execute_result"
    }
   ],
   "source": [
    "3<1 or 5<3"
   ]
  },
  {
   "cell_type": "code",
   "execution_count": 74,
   "id": "9fba6144-a9b6-4a4b-aec0-ba3d15e9b26a",
   "metadata": {},
   "outputs": [],
   "source": [
    "#EXECUTION OF CODE BLOCKS WITH if,elif,else"
   ]
  },
  {
   "cell_type": "code",
   "execution_count": 76,
   "id": "c44e6a0a-b3a4-4668-8e52-cfeeb7b2c767",
   "metadata": {},
   "outputs": [
    {
     "name": "stdout",
     "output_type": "stream",
     "text": [
      "hi\n"
     ]
    }
   ],
   "source": [
    "if(1<2):\n",
    "    print('hi')"
   ]
  },
  {
   "cell_type": "code",
   "execution_count": 87,
   "id": "c65e3c9f-fdc3-4dc2-b28f-6fc6c240605b",
   "metadata": {},
   "outputs": [
    {
     "name": "stdout",
     "output_type": "stream",
     "text": [
      "bye\n"
     ]
    }
   ],
   "source": [
    "if 1>2:\n",
    "    print ('hi')\n",
    "elif 3>4:\n",
    "    print('hello')\n",
    "elif 5<6:\n",
    "    print('bye')\n",
    "else:\n",
    "    print('ki')\n"
   ]
  },
  {
   "cell_type": "code",
   "execution_count": null,
   "id": "c170ad3c-4c6b-4508-bf79-d4b875596fc7",
   "metadata": {},
   "outputs": [],
   "source": []
  }
 ],
 "metadata": {
  "kernelspec": {
   "display_name": "Python 3 (ipykernel)",
   "language": "python",
   "name": "python3"
  },
  "language_info": {
   "codemirror_mode": {
    "name": "ipython",
    "version": 3
   },
   "file_extension": ".py",
   "mimetype": "text/x-python",
   "name": "python",
   "nbconvert_exporter": "python",
   "pygments_lexer": "ipython3",
   "version": "3.12.7"
  }
 },
 "nbformat": 4,
 "nbformat_minor": 5
}
